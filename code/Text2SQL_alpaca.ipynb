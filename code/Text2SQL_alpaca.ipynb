{
 "cells": [
  {
   "cell_type": "code",
   "execution_count": 1,
   "id": "34e9663b-24d1-4bab-a90a-70f1419f42db",
   "metadata": {
    "execution": {
     "iopub.execute_input": "2023-07-17T17:21:53.238786Z",
     "iopub.status.busy": "2023-07-17T17:21:53.238545Z",
     "iopub.status.idle": "2023-07-17T17:22:13.288551Z",
     "shell.execute_reply": "2023-07-17T17:22:13.287662Z",
     "shell.execute_reply.started": "2023-07-17T17:21:53.238766Z"
    }
   },
   "outputs": [
    {
     "name": "stdout",
     "output_type": "stream",
     "text": [
      "Collecting git+https://github.com/huggingface/transformers.git\n",
      "  Cloning https://github.com/huggingface/transformers.git to /tmp/pip-req-build-6s16x8z8\n",
      "  Running command git clone --filter=blob:none --quiet https://github.com/huggingface/transformers.git /tmp/pip-req-build-6s16x8z8\n",
      "  Resolved https://github.com/huggingface/transformers.git to commit f42a35e611ae3916cfb5b1e8a0540606abb31466\n",
      "  Installing build dependencies ... \u001b[?25ldone\n",
      "\u001b[?25h  Getting requirements to build wheel ... \u001b[?25ldone\n",
      "\u001b[?25h  Preparing metadata (pyproject.toml) ... \u001b[?25ldone\n",
      "\u001b[?25hCollecting filelock (from transformers==4.31.0.dev0)\n",
      "  Downloading filelock-3.12.2-py3-none-any.whl (10 kB)\n",
      "Collecting huggingface-hub<1.0,>=0.14.1 (from transformers==4.31.0.dev0)\n",
      "  Downloading huggingface_hub-0.16.4-py3-none-any.whl (268 kB)\n",
      "\u001b[2K     \u001b[90m━━━━━━━━━━━━━━━━━━━━━━━━━━━━━━━━━━━━━━\u001b[0m \u001b[32m268.8/268.8 kB\u001b[0m \u001b[31m10.1 MB/s\u001b[0m eta \u001b[36m0:00:00\u001b[0m\n",
      "\u001b[?25hCollecting numpy>=1.17 (from transformers==4.31.0.dev0)\n",
      "  Downloading numpy-1.24.4-cp38-cp38-manylinux_2_17_x86_64.manylinux2014_x86_64.whl (17.3 MB)\n",
      "\u001b[2K     \u001b[90m━━━━━━━━━━━━━━━━━━━━━━━━━━━━━━━━━━━━━━━━\u001b[0m \u001b[32m17.3/17.3 MB\u001b[0m \u001b[31m86.5 MB/s\u001b[0m eta \u001b[36m0:00:00\u001b[0m00:01\u001b[0m00:01\u001b[0m\n",
      "\u001b[?25hRequirement already satisfied: packaging>=20.0 in /usr/local/lib/python3.8/dist-packages (from transformers==4.31.0.dev0) (23.1)\n",
      "Requirement already satisfied: pyyaml>=5.1 in /usr/local/lib/python3.8/dist-packages (from transformers==4.31.0.dev0) (5.4.1)\n",
      "Collecting regex!=2019.12.17 (from transformers==4.31.0.dev0)\n",
      "  Downloading regex-2023.6.3-cp38-cp38-manylinux_2_17_x86_64.manylinux2014_x86_64.whl (772 kB)\n",
      "\u001b[2K     \u001b[90m━━━━━━━━━━━━━━━━━━━━━━━━━━━━━━━━━━━━━\u001b[0m \u001b[32m772.3/772.3 kB\u001b[0m \u001b[31m118.6 MB/s\u001b[0m eta \u001b[36m0:00:00\u001b[0m\n",
      "\u001b[?25hRequirement already satisfied: requests in /usr/local/lib/python3.8/dist-packages (from transformers==4.31.0.dev0) (2.31.0)\n",
      "Collecting tokenizers!=0.11.3,<0.14,>=0.11.1 (from transformers==4.31.0.dev0)\n",
      "  Downloading tokenizers-0.13.3-cp38-cp38-manylinux_2_17_x86_64.manylinux2014_x86_64.whl (7.8 MB)\n",
      "\u001b[2K     \u001b[90m━━━━━━━━━━━━━━━━━━━━━━━━━━━━━━━━━━━━━━━━\u001b[0m \u001b[32m7.8/7.8 MB\u001b[0m \u001b[31m66.6 MB/s\u001b[0m eta \u001b[36m0:00:00\u001b[0m00:01\u001b[0m00:01\u001b[0mm\n",
      "\u001b[?25hCollecting safetensors>=0.3.1 (from transformers==4.31.0.dev0)\n",
      "  Downloading safetensors-0.3.1-cp38-cp38-manylinux_2_17_x86_64.manylinux2014_x86_64.whl (1.3 MB)\n",
      "\u001b[2K     \u001b[90m━━━━━━━━━━━━━━━━━━━━━━━━━━━━━━━━━━━━━━━━\u001b[0m \u001b[32m1.3/1.3 MB\u001b[0m \u001b[31m113.1 MB/s\u001b[0m eta \u001b[36m0:00:00\u001b[0m\n",
      "\u001b[?25hRequirement already satisfied: tqdm>=4.27 in /usr/local/lib/python3.8/dist-packages (from transformers==4.31.0.dev0) (4.65.0)\n",
      "Collecting fsspec (from huggingface-hub<1.0,>=0.14.1->transformers==4.31.0.dev0)\n",
      "  Downloading fsspec-2023.6.0-py3-none-any.whl (163 kB)\n",
      "\u001b[2K     \u001b[90m━━━━━━━━━━━━━━━━━━━━━━━━━━━━━━━━━━━━━━\u001b[0m \u001b[32m163.8/163.8 kB\u001b[0m \u001b[31m83.4 MB/s\u001b[0m eta \u001b[36m0:00:00\u001b[0m\n",
      "\u001b[?25hRequirement already satisfied: typing-extensions>=3.7.4.3 in /usr/local/lib/python3.8/dist-packages (from huggingface-hub<1.0,>=0.14.1->transformers==4.31.0.dev0) (4.6.2)\n",
      "Requirement already satisfied: charset-normalizer<4,>=2 in /usr/local/lib/python3.8/dist-packages (from requests->transformers==4.31.0.dev0) (3.1.0)\n",
      "Requirement already satisfied: idna<4,>=2.5 in /usr/lib/python3/dist-packages (from requests->transformers==4.31.0.dev0) (2.8)\n",
      "Requirement already satisfied: urllib3<3,>=1.21.1 in /usr/lib/python3/dist-packages (from requests->transformers==4.31.0.dev0) (1.25.8)\n",
      "Requirement already satisfied: certifi>=2017.4.17 in /usr/lib/python3/dist-packages (from requests->transformers==4.31.0.dev0) (2019.11.28)\n",
      "Building wheels for collected packages: transformers\n",
      "  Building wheel for transformers (pyproject.toml) ... \u001b[?25ldone\n",
      "\u001b[?25h  Created wheel for transformers: filename=transformers-4.31.0.dev0-py3-none-any.whl size=7382595 sha256=cc1df68458df27420b7a8dc0d7296673e29ee1c5930a62f8e2c8b046a9ae00da\n",
      "  Stored in directory: /tmp/pip-ephem-wheel-cache-7zztn3ra/wheels/05/0a/97/64ae47c27ba95fae2cb5838e7b4b7247a34d4a8ba5f7092de2\n",
      "Successfully built transformers\n",
      "Installing collected packages: tokenizers, safetensors, regex, numpy, fsspec, filelock, huggingface-hub, transformers\n",
      "Successfully installed filelock-3.12.2 fsspec-2023.6.0 huggingface-hub-0.16.4 numpy-1.24.4 regex-2023.6.3 safetensors-0.3.1 tokenizers-0.13.3 transformers-4.31.0.dev0\n",
      "\u001b[33mWARNING: Running pip as the 'root' user can result in broken permissions and conflicting behaviour with the system package manager. It is recommended to use a virtual environment instead: https://pip.pypa.io/warnings/venv\u001b[0m\u001b[33m\n",
      "\u001b[0mNote: you may need to restart the kernel to use updated packages.\n"
     ]
    }
   ],
   "source": [
    "pip install git+https://github.com/huggingface/transformers.git"
   ]
  },
  {
   "cell_type": "code",
   "execution_count": 1,
   "id": "81a0a614-874b-4c73-858c-a5112a848776",
   "metadata": {
    "execution": {
     "iopub.execute_input": "2023-07-17T17:22:42.155453Z",
     "iopub.status.busy": "2023-07-17T17:22:42.155213Z",
     "iopub.status.idle": "2023-07-17T17:22:47.085864Z",
     "shell.execute_reply": "2023-07-17T17:22:47.085219Z",
     "shell.execute_reply.started": "2023-07-17T17:22:42.155428Z"
    }
   },
   "outputs": [
    {
     "name": "stdout",
     "output_type": "stream",
     "text": [
      "Collecting scipy\n",
      "  Downloading scipy-1.10.1-cp38-cp38-manylinux_2_17_x86_64.manylinux2014_x86_64.whl (34.5 MB)\n",
      "\u001b[2K     \u001b[90m━━━━━━━━━━━━━━━━━━━━━━━━━━━━━━━━━━━━━━━━\u001b[0m \u001b[32m34.5/34.5 MB\u001b[0m \u001b[31m69.2 MB/s\u001b[0m eta \u001b[36m0:00:00\u001b[0m00:01\u001b[0m00:01\u001b[0m\n",
      "\u001b[?25hRequirement already satisfied: numpy<1.27.0,>=1.19.5 in /usr/local/lib/python3.8/dist-packages (from scipy) (1.24.4)\n",
      "Installing collected packages: scipy\n",
      "Successfully installed scipy-1.10.1\n",
      "\u001b[33mWARNING: Running pip as the 'root' user can result in broken permissions and conflicting behaviour with the system package manager. It is recommended to use a virtual environment instead: https://pip.pypa.io/warnings/venv\u001b[0m\u001b[33m\n",
      "\u001b[0m"
     ]
    }
   ],
   "source": [
    "!pip install scipy"
   ]
  },
  {
   "cell_type": "code",
   "execution_count": 2,
   "id": "42f59d4e-b602-47a1-ab27-55605f54ca69",
   "metadata": {
    "execution": {
     "iopub.execute_input": "2023-07-17T17:22:56.160239Z",
     "iopub.status.busy": "2023-07-17T17:22:56.159958Z",
     "iopub.status.idle": "2023-07-17T17:23:02.048487Z",
     "shell.execute_reply": "2023-07-17T17:23:02.047839Z",
     "shell.execute_reply.started": "2023-07-17T17:22:56.160218Z"
    }
   },
   "outputs": [
    {
     "name": "stdout",
     "output_type": "stream",
     "text": [
      "Collecting langchain\n",
      "  Downloading langchain-0.0.235-py3-none-any.whl (1.3 MB)\n",
      "\u001b[2K     \u001b[90m━━━━━━━━━━━━━━━━━━━━━━━━━━━━━━━━━━━━━━━━\u001b[0m \u001b[32m1.3/1.3 MB\u001b[0m \u001b[31m28.4 MB/s\u001b[0m eta \u001b[36m0:00:00\u001b[0ma \u001b[36m0:00:01\u001b[0m\n",
      "\u001b[?25hRequirement already satisfied: PyYAML>=5.4.1 in /usr/local/lib/python3.8/dist-packages (from langchain) (5.4.1)\n",
      "Requirement already satisfied: SQLAlchemy<3,>=1.4 in /usr/local/lib/python3.8/dist-packages (from langchain) (1.4.48)\n",
      "Collecting aiohttp<4.0.0,>=3.8.3 (from langchain)\n",
      "  Downloading aiohttp-3.8.4-cp38-cp38-manylinux_2_17_x86_64.manylinux2014_x86_64.whl (1.0 MB)\n",
      "\u001b[2K     \u001b[90m━━━━━━━━━━━━━━━━━━━━━━━━━━━━━━━━━━━━━━━━\u001b[0m \u001b[32m1.0/1.0 MB\u001b[0m \u001b[31m57.3 MB/s\u001b[0m eta \u001b[36m0:00:00\u001b[0m\n",
      "\u001b[?25hCollecting async-timeout<5.0.0,>=4.0.0 (from langchain)\n",
      "  Downloading async_timeout-4.0.2-py3-none-any.whl (5.8 kB)\n",
      "Collecting dataclasses-json<0.6.0,>=0.5.7 (from langchain)\n",
      "  Downloading dataclasses_json-0.5.9-py3-none-any.whl (26 kB)\n",
      "Collecting langsmith<0.0.8,>=0.0.7 (from langchain)\n",
      "  Downloading langsmith-0.0.7-py3-none-any.whl (26 kB)\n",
      "Collecting numexpr<3.0.0,>=2.8.4 (from langchain)\n",
      "  Downloading numexpr-2.8.4-cp38-cp38-manylinux_2_17_x86_64.manylinux2014_x86_64.whl (381 kB)\n",
      "\u001b[2K     \u001b[90m━━━━━━━━━━━━━━━━━━━━━━━━━━━━━━━━━━━━━\u001b[0m \u001b[32m381.7/381.7 kB\u001b[0m \u001b[31m119.4 MB/s\u001b[0m eta \u001b[36m0:00:00\u001b[0m\n",
      "\u001b[?25hRequirement already satisfied: numpy<2,>=1 in /usr/local/lib/python3.8/dist-packages (from langchain) (1.24.4)\n",
      "Collecting openapi-schema-pydantic<2.0,>=1.2 (from langchain)\n",
      "  Downloading openapi_schema_pydantic-1.2.4-py3-none-any.whl (90 kB)\n",
      "\u001b[2K     \u001b[90m━━━━━━━━━━━━━━━━━━━━━━━━━━━━━━━━━━━━━━━━\u001b[0m \u001b[32m90.0/90.0 kB\u001b[0m \u001b[31m53.7 MB/s\u001b[0m eta \u001b[36m0:00:00\u001b[0m\n",
      "\u001b[?25hCollecting pydantic<2,>=1 (from langchain)\n",
      "  Downloading pydantic-1.10.11-cp38-cp38-manylinux_2_17_x86_64.manylinux2014_x86_64.whl (3.2 MB)\n",
      "\u001b[2K     \u001b[90m━━━━━━━━━━━━━━━━━━━━━━━━━━━━━━━━━━━━━━━━\u001b[0m \u001b[32m3.2/3.2 MB\u001b[0m \u001b[31m85.9 MB/s\u001b[0m eta \u001b[36m0:00:00\u001b[0m:00:01\u001b[0m\n",
      "\u001b[?25hRequirement already satisfied: requests<3,>=2 in /usr/local/lib/python3.8/dist-packages (from langchain) (2.31.0)\n",
      "Collecting tenacity<9.0.0,>=8.1.0 (from langchain)\n",
      "  Downloading tenacity-8.2.2-py3-none-any.whl (24 kB)\n",
      "Requirement already satisfied: attrs>=17.3.0 in /usr/local/lib/python3.8/dist-packages (from aiohttp<4.0.0,>=3.8.3->langchain) (23.1.0)\n",
      "Requirement already satisfied: charset-normalizer<4.0,>=2.0 in /usr/local/lib/python3.8/dist-packages (from aiohttp<4.0.0,>=3.8.3->langchain) (3.1.0)\n",
      "Collecting multidict<7.0,>=4.5 (from aiohttp<4.0.0,>=3.8.3->langchain)\n",
      "  Downloading multidict-6.0.4-cp38-cp38-manylinux_2_17_x86_64.manylinux2014_x86_64.whl (121 kB)\n",
      "\u001b[2K     \u001b[90m━━━━━━━━━━━━━━━━━━━━━━━━━━━━━━━━━━━━━━\u001b[0m \u001b[32m121.3/121.3 kB\u001b[0m \u001b[31m51.5 MB/s\u001b[0m eta \u001b[36m0:00:00\u001b[0m\n",
      "\u001b[?25hCollecting yarl<2.0,>=1.0 (from aiohttp<4.0.0,>=3.8.3->langchain)\n",
      "  Downloading yarl-1.9.2-cp38-cp38-manylinux_2_17_x86_64.manylinux2014_x86_64.whl (266 kB)\n",
      "\u001b[2K     \u001b[90m━━━━━━━━━━━━━━━━━━━━━━━━━━━━━━━━━━━━━━\u001b[0m \u001b[32m266.9/266.9 kB\u001b[0m \u001b[31m99.8 MB/s\u001b[0m eta \u001b[36m0:00:00\u001b[0m\n",
      "\u001b[?25hCollecting frozenlist>=1.1.1 (from aiohttp<4.0.0,>=3.8.3->langchain)\n",
      "  Downloading frozenlist-1.4.0-cp38-cp38-manylinux_2_5_x86_64.manylinux1_x86_64.manylinux_2_17_x86_64.manylinux2014_x86_64.whl (220 kB)\n",
      "\u001b[2K     \u001b[90m━━━━━━━━━━━━━━━━━━━━━━━━━━━━━━━━━━━━━━\u001b[0m \u001b[32m220.1/220.1 kB\u001b[0m \u001b[31m87.1 MB/s\u001b[0m eta \u001b[36m0:00:00\u001b[0m\n",
      "\u001b[?25hCollecting aiosignal>=1.1.2 (from aiohttp<4.0.0,>=3.8.3->langchain)\n",
      "  Downloading aiosignal-1.3.1-py3-none-any.whl (7.6 kB)\n",
      "Collecting marshmallow<4.0.0,>=3.3.0 (from dataclasses-json<0.6.0,>=0.5.7->langchain)\n",
      "  Downloading marshmallow-3.19.0-py3-none-any.whl (49 kB)\n",
      "\u001b[2K     \u001b[90m━━━━━━━━━━━━━━━━━━━━━━━━━━━━━━━━━━━━━━━━\u001b[0m \u001b[32m49.1/49.1 kB\u001b[0m \u001b[31m24.9 MB/s\u001b[0m eta \u001b[36m0:00:00\u001b[0m\n",
      "\u001b[?25hCollecting marshmallow-enum<2.0.0,>=1.5.1 (from dataclasses-json<0.6.0,>=0.5.7->langchain)\n",
      "  Downloading marshmallow_enum-1.5.1-py2.py3-none-any.whl (4.2 kB)\n",
      "Collecting typing-inspect>=0.4.0 (from dataclasses-json<0.6.0,>=0.5.7->langchain)\n",
      "  Downloading typing_inspect-0.9.0-py3-none-any.whl (8.8 kB)\n",
      "Requirement already satisfied: typing-extensions>=4.2.0 in /usr/local/lib/python3.8/dist-packages (from pydantic<2,>=1->langchain) (4.6.2)\n",
      "Requirement already satisfied: idna<4,>=2.5 in /usr/lib/python3/dist-packages (from requests<3,>=2->langchain) (2.8)\n",
      "Requirement already satisfied: urllib3<3,>=1.21.1 in /usr/lib/python3/dist-packages (from requests<3,>=2->langchain) (1.25.8)\n",
      "Requirement already satisfied: certifi>=2017.4.17 in /usr/lib/python3/dist-packages (from requests<3,>=2->langchain) (2019.11.28)\n",
      "Requirement already satisfied: greenlet!=0.4.17 in /usr/local/lib/python3.8/dist-packages (from SQLAlchemy<3,>=1.4->langchain) (2.0.2)\n",
      "Requirement already satisfied: packaging>=17.0 in /usr/local/lib/python3.8/dist-packages (from marshmallow<4.0.0,>=3.3.0->dataclasses-json<0.6.0,>=0.5.7->langchain) (23.1)\n",
      "Collecting mypy-extensions>=0.3.0 (from typing-inspect>=0.4.0->dataclasses-json<0.6.0,>=0.5.7->langchain)\n",
      "  Downloading mypy_extensions-1.0.0-py3-none-any.whl (4.7 kB)\n",
      "Installing collected packages: tenacity, pydantic, numexpr, mypy-extensions, multidict, marshmallow, frozenlist, async-timeout, yarl, typing-inspect, openapi-schema-pydantic, marshmallow-enum, langsmith, aiosignal, dataclasses-json, aiohttp, langchain\n",
      "Successfully installed aiohttp-3.8.4 aiosignal-1.3.1 async-timeout-4.0.2 dataclasses-json-0.5.9 frozenlist-1.4.0 langchain-0.0.235 langsmith-0.0.7 marshmallow-3.19.0 marshmallow-enum-1.5.1 multidict-6.0.4 mypy-extensions-1.0.0 numexpr-2.8.4 openapi-schema-pydantic-1.2.4 pydantic-1.10.11 tenacity-8.2.2 typing-inspect-0.9.0 yarl-1.9.2\n",
      "\u001b[33mWARNING: Running pip as the 'root' user can result in broken permissions and conflicting behaviour with the system package manager. It is recommended to use a virtual environment instead: https://pip.pypa.io/warnings/venv\u001b[0m\u001b[33m\n",
      "\u001b[0m"
     ]
    }
   ],
   "source": [
    "!pip install langchain "
   ]
  },
  {
   "cell_type": "code",
   "execution_count": 3,
   "id": "92751508-5cc1-497a-9190-848493466b7f",
   "metadata": {
    "execution": {
     "iopub.execute_input": "2023-07-17T17:23:11.903090Z",
     "iopub.status.busy": "2023-07-17T17:23:11.902834Z",
     "iopub.status.idle": "2023-07-17T17:23:14.121169Z",
     "shell.execute_reply": "2023-07-17T17:23:14.120331Z",
     "shell.execute_reply.started": "2023-07-17T17:23:11.903070Z"
    }
   },
   "outputs": [
    {
     "name": "stdout",
     "output_type": "stream",
     "text": [
      "Collecting sentencepiece\n",
      "  Downloading sentencepiece-0.1.99-cp38-cp38-manylinux_2_17_x86_64.manylinux2014_x86_64.whl (1.3 MB)\n",
      "\u001b[2K     \u001b[90m━━━━━━━━━━━━━━━━━━━━━━━━━━━━━━━━━━━━━━━━\u001b[0m \u001b[32m1.3/1.3 MB\u001b[0m \u001b[31m33.5 MB/s\u001b[0m eta \u001b[36m0:00:00\u001b[0ma \u001b[36m0:00:01\u001b[0m\n",
      "\u001b[?25hInstalling collected packages: sentencepiece\n",
      "Successfully installed sentencepiece-0.1.99\n",
      "\u001b[33mWARNING: Running pip as the 'root' user can result in broken permissions and conflicting behaviour with the system package manager. It is recommended to use a virtual environment instead: https://pip.pypa.io/warnings/venv\u001b[0m\u001b[33m\n",
      "\u001b[0m"
     ]
    }
   ],
   "source": [
    "!pip install sentencepiece"
   ]
  },
  {
   "cell_type": "code",
   "execution_count": 4,
   "id": "bce43055-395b-4845-b774-0978bfa52230",
   "metadata": {
    "execution": {
     "iopub.execute_input": "2023-07-17T17:23:22.099418Z",
     "iopub.status.busy": "2023-07-17T17:23:22.099147Z",
     "iopub.status.idle": "2023-07-17T17:23:27.828651Z",
     "shell.execute_reply": "2023-07-17T17:23:27.827898Z",
     "shell.execute_reply.started": "2023-07-17T17:23:22.099396Z"
    }
   },
   "outputs": [
    {
     "name": "stdout",
     "output_type": "stream",
     "text": [
      "Collecting bitsandbytes\n",
      "  Downloading bitsandbytes-0.40.2-py3-none-any.whl (92.5 MB)\n",
      "\u001b[2K     \u001b[90m━━━━━━━━━━━━━━━━━━━━━━━━━━━━━━━━━━━━━━━━\u001b[0m \u001b[32m92.5/92.5 MB\u001b[0m \u001b[31m31.3 MB/s\u001b[0m eta \u001b[36m0:00:00\u001b[0m00:01\u001b[0m00:01\u001b[0m\n",
      "\u001b[?25hInstalling collected packages: bitsandbytes\n",
      "Successfully installed bitsandbytes-0.40.2\n",
      "\u001b[33mWARNING: Running pip as the 'root' user can result in broken permissions and conflicting behaviour with the system package manager. It is recommended to use a virtual environment instead: https://pip.pypa.io/warnings/venv\u001b[0m\u001b[33m\n",
      "\u001b[0m"
     ]
    }
   ],
   "source": [
    "!pip install bitsandbytes"
   ]
  },
  {
   "cell_type": "code",
   "execution_count": 5,
   "id": "23927d0b-98a3-41cb-a9af-50baf809342b",
   "metadata": {
    "execution": {
     "iopub.execute_input": "2023-07-17T17:23:32.156232Z",
     "iopub.status.busy": "2023-07-17T17:23:32.155942Z",
     "iopub.status.idle": "2023-07-17T17:23:34.875400Z",
     "shell.execute_reply": "2023-07-17T17:23:34.874771Z",
     "shell.execute_reply.started": "2023-07-17T17:23:32.156192Z"
    }
   },
   "outputs": [
    {
     "name": "stdout",
     "output_type": "stream",
     "text": [
      "Collecting accelerate\n",
      "  Downloading accelerate-0.21.0-py3-none-any.whl (244 kB)\n",
      "\u001b[2K     \u001b[90m━━━━━━━━━━━━━━━━━━━━━━━━━━━━━━━━━━━━━━\u001b[0m \u001b[32m244.2/244.2 kB\u001b[0m \u001b[31m14.6 MB/s\u001b[0m eta \u001b[36m0:00:00\u001b[0m\n",
      "\u001b[?25hRequirement already satisfied: numpy>=1.17 in /usr/local/lib/python3.8/dist-packages (from accelerate) (1.24.4)\n",
      "Requirement already satisfied: packaging>=20.0 in /usr/local/lib/python3.8/dist-packages (from accelerate) (23.1)\n",
      "Collecting psutil (from accelerate)\n",
      "  Downloading psutil-5.9.5-cp36-abi3-manylinux_2_12_x86_64.manylinux2010_x86_64.manylinux_2_17_x86_64.manylinux2014_x86_64.whl (282 kB)\n",
      "\u001b[2K     \u001b[90m━━━━━━━━━━━━━━━━━━━━━━━━━━━━━━━━━━━━━━\u001b[0m \u001b[32m282.1/282.1 kB\u001b[0m \u001b[31m61.7 MB/s\u001b[0m eta \u001b[36m0:00:00\u001b[0m\n",
      "\u001b[?25hRequirement already satisfied: pyyaml in /usr/local/lib/python3.8/dist-packages (from accelerate) (5.4.1)\n",
      "Requirement already satisfied: torch>=1.10.0 in /usr/local/lib/python3.8/dist-packages (from accelerate) (1.13.1+cpu)\n",
      "Requirement already satisfied: typing-extensions in /usr/local/lib/python3.8/dist-packages (from torch>=1.10.0->accelerate) (4.6.2)\n",
      "Installing collected packages: psutil, accelerate\n",
      "Successfully installed accelerate-0.21.0 psutil-5.9.5\n",
      "\u001b[33mWARNING: Running pip as the 'root' user can result in broken permissions and conflicting behaviour with the system package manager. It is recommended to use a virtual environment instead: https://pip.pypa.io/warnings/venv\u001b[0m\u001b[33m\n",
      "\u001b[0m"
     ]
    }
   ],
   "source": [
    "!pip install accelerate"
   ]
  },
  {
   "cell_type": "code",
   "execution_count": 6,
   "id": "82cadcbc-7830-4e24-a397-612e61f8ac33",
   "metadata": {
    "execution": {
     "iopub.execute_input": "2023-07-17T17:23:58.800540Z",
     "iopub.status.busy": "2023-07-17T17:23:58.800281Z",
     "iopub.status.idle": "2023-07-17T17:25:18.218581Z",
     "shell.execute_reply": "2023-07-17T17:25:18.217617Z",
     "shell.execute_reply.started": "2023-07-17T17:23:58.800519Z"
    }
   },
   "outputs": [
    {
     "name": "stdout",
     "output_type": "stream",
     "text": [
      "Collecting xformers\n",
      "  Downloading xformers-0.0.20-cp38-cp38-manylinux2014_x86_64.whl (109.1 MB)\n",
      "\u001b[2K     \u001b[90m━━━━━━━━━━━━━━━━━━━━━━━━━━━━━━━━━━━━━━\u001b[0m \u001b[32m109.1/109.1 MB\u001b[0m \u001b[31m35.4 MB/s\u001b[0m eta \u001b[36m0:00:00\u001b[0m00:01\u001b[0m00:01\u001b[0m\n",
      "\u001b[?25hRequirement already satisfied: numpy in /usr/local/lib/python3.8/dist-packages (from xformers) (1.24.4)\n",
      "Collecting pyre-extensions==0.0.29 (from xformers)\n",
      "  Downloading pyre_extensions-0.0.29-py3-none-any.whl (12 kB)\n",
      "Collecting torch==2.0.1 (from xformers)\n",
      "  Downloading torch-2.0.1-cp38-cp38-manylinux1_x86_64.whl (619.9 MB)\n",
      "\u001b[2K     \u001b[90m━━━━━━━━━━━━━━━━━━━━━━━━━━━━━━━━━━━━━━\u001b[0m \u001b[32m619.9/619.9 MB\u001b[0m \u001b[31m10.7 MB/s\u001b[0m eta \u001b[36m0:00:00\u001b[0m00:01\u001b[0m00:01\u001b[0m\n",
      "\u001b[?25hRequirement already satisfied: typing-inspect in /usr/local/lib/python3.8/dist-packages (from pyre-extensions==0.0.29->xformers) (0.9.0)\n",
      "Requirement already satisfied: typing-extensions in /usr/local/lib/python3.8/dist-packages (from pyre-extensions==0.0.29->xformers) (4.6.2)\n",
      "Requirement already satisfied: filelock in /usr/local/lib/python3.8/dist-packages (from torch==2.0.1->xformers) (3.12.2)\n",
      "Collecting sympy (from torch==2.0.1->xformers)\n",
      "  Downloading sympy-1.12-py3-none-any.whl (5.7 MB)\n",
      "\u001b[2K     \u001b[90m━━━━━━━━━━━━━━━━━━━━━━━━━━━━━━━━━━━━━━━━\u001b[0m \u001b[32m5.7/5.7 MB\u001b[0m \u001b[31m77.9 MB/s\u001b[0m eta \u001b[36m0:00:00\u001b[0m00:01\u001b[0m00:01\u001b[0m\n",
      "\u001b[?25hCollecting networkx (from torch==2.0.1->xformers)\n",
      "  Downloading networkx-3.1-py3-none-any.whl (2.1 MB)\n",
      "\u001b[2K     \u001b[90m━━━━━━━━━━━━━━━━━━━━━━━━━━━━━━━━━━━━━━━━\u001b[0m \u001b[32m2.1/2.1 MB\u001b[0m \u001b[31m74.8 MB/s\u001b[0m eta \u001b[36m0:00:00\u001b[0m\n",
      "\u001b[?25hRequirement already satisfied: jinja2 in /usr/local/lib/python3.8/dist-packages (from torch==2.0.1->xformers) (3.1.2)\n",
      "Collecting nvidia-cuda-nvrtc-cu11==11.7.99 (from torch==2.0.1->xformers)\n",
      "  Downloading nvidia_cuda_nvrtc_cu11-11.7.99-2-py3-none-manylinux1_x86_64.whl (21.0 MB)\n",
      "\u001b[2K     \u001b[90m━━━━━━━━━━━━━━━━━━━━━━━━━━━━━━━━━━━━━━━━\u001b[0m \u001b[32m21.0/21.0 MB\u001b[0m \u001b[31m68.4 MB/s\u001b[0m eta \u001b[36m0:00:00\u001b[0m00:01\u001b[0m00:01\u001b[0m\n",
      "\u001b[?25hCollecting nvidia-cuda-runtime-cu11==11.7.99 (from torch==2.0.1->xformers)\n",
      "  Downloading nvidia_cuda_runtime_cu11-11.7.99-py3-none-manylinux1_x86_64.whl (849 kB)\n",
      "\u001b[2K     \u001b[90m━━━━━━━━━━━━━━━━━━━━━━━━━━━━━━━━━━━━━━\u001b[0m \u001b[32m849.3/849.3 kB\u001b[0m \u001b[31m91.0 MB/s\u001b[0m eta \u001b[36m0:00:00\u001b[0m\n",
      "\u001b[?25hCollecting nvidia-cuda-cupti-cu11==11.7.101 (from torch==2.0.1->xformers)\n",
      "  Downloading nvidia_cuda_cupti_cu11-11.7.101-py3-none-manylinux1_x86_64.whl (11.8 MB)\n",
      "\u001b[2K     \u001b[90m━━━━━━━━━━━━━━━━━━━━━━━━━━━━━━━━━━━━━━━━\u001b[0m \u001b[32m11.8/11.8 MB\u001b[0m \u001b[31m72.6 MB/s\u001b[0m eta \u001b[36m0:00:00\u001b[0m00:01\u001b[0m0:01\u001b[0m\n",
      "\u001b[?25hCollecting nvidia-cudnn-cu11==8.5.0.96 (from torch==2.0.1->xformers)\n",
      "  Downloading nvidia_cudnn_cu11-8.5.0.96-2-py3-none-manylinux1_x86_64.whl (557.1 MB)\n",
      "\u001b[2K     \u001b[90m━━━━━━━━━━━━━━━━━━━━━━━━━━━━━━━━━━━━━━\u001b[0m \u001b[32m557.1/557.1 MB\u001b[0m \u001b[31m12.2 MB/s\u001b[0m eta \u001b[36m0:00:00\u001b[0m00:01\u001b[0m00:01\u001b[0m\n",
      "\u001b[?25hCollecting nvidia-cublas-cu11==11.10.3.66 (from torch==2.0.1->xformers)\n",
      "  Downloading nvidia_cublas_cu11-11.10.3.66-py3-none-manylinux1_x86_64.whl (317.1 MB)\n",
      "\u001b[2K     \u001b[90m━━━━━━━━━━━━━━━━━━━━━━━━━━━━━━━━━━━━━━\u001b[0m \u001b[32m317.1/317.1 MB\u001b[0m \u001b[31m19.9 MB/s\u001b[0m eta \u001b[36m0:00:00\u001b[0m00:01\u001b[0m00:01\u001b[0m\n",
      "\u001b[?25hCollecting nvidia-cufft-cu11==10.9.0.58 (from torch==2.0.1->xformers)\n",
      "  Downloading nvidia_cufft_cu11-10.9.0.58-py3-none-manylinux1_x86_64.whl (168.4 MB)\n",
      "\u001b[2K     \u001b[90m━━━━━━━━━━━━━━━━━━━━━━━━━━━━━━━━━━━━━━\u001b[0m \u001b[32m168.4/168.4 MB\u001b[0m \u001b[31m29.3 MB/s\u001b[0m eta \u001b[36m0:00:00\u001b[0m00:01\u001b[0m00:01\u001b[0m\n",
      "\u001b[?25hCollecting nvidia-curand-cu11==10.2.10.91 (from torch==2.0.1->xformers)\n",
      "  Downloading nvidia_curand_cu11-10.2.10.91-py3-none-manylinux1_x86_64.whl (54.6 MB)\n",
      "\u001b[2K     \u001b[90m━━━━━━━━━━━━━━━━━━━━━━━━━━━━━━━━━━━━━━━━\u001b[0m \u001b[32m54.6/54.6 MB\u001b[0m \u001b[31m58.3 MB/s\u001b[0m eta \u001b[36m0:00:00\u001b[0m00:01\u001b[0m00:01\u001b[0m\n",
      "\u001b[?25hCollecting nvidia-cusolver-cu11==11.4.0.1 (from torch==2.0.1->xformers)\n",
      "  Downloading nvidia_cusolver_cu11-11.4.0.1-2-py3-none-manylinux1_x86_64.whl (102.6 MB)\n",
      "\u001b[2K     \u001b[90m━━━━━━━━━━━━━━━━━━━━━━━━━━━━━━━━━━━━━━\u001b[0m \u001b[32m102.6/102.6 MB\u001b[0m \u001b[31m41.2 MB/s\u001b[0m eta \u001b[36m0:00:00\u001b[0m00:01\u001b[0m00:01\u001b[0m\n",
      "\u001b[?25hCollecting nvidia-cusparse-cu11==11.7.4.91 (from torch==2.0.1->xformers)\n",
      "  Downloading nvidia_cusparse_cu11-11.7.4.91-py3-none-manylinux1_x86_64.whl (173.2 MB)\n",
      "\u001b[2K     \u001b[90m━━━━━━━━━━━━━━━━━━━━━━━━━━━━━━━━━━━━━━\u001b[0m \u001b[32m173.2/173.2 MB\u001b[0m \u001b[31m31.6 MB/s\u001b[0m eta \u001b[36m0:00:00\u001b[0m00:01\u001b[0m00:01\u001b[0m\n",
      "\u001b[?25hCollecting nvidia-nccl-cu11==2.14.3 (from torch==2.0.1->xformers)\n",
      "  Downloading nvidia_nccl_cu11-2.14.3-py3-none-manylinux1_x86_64.whl (177.1 MB)\n",
      "\u001b[2K     \u001b[90m━━━━━━━━━━━━━━━━━━━━━━━━━━━━━━━━━━━━━━\u001b[0m \u001b[32m177.1/177.1 MB\u001b[0m \u001b[31m29.6 MB/s\u001b[0m eta \u001b[36m0:00:00\u001b[0m00:01\u001b[0m00:01\u001b[0m\n",
      "\u001b[?25hCollecting nvidia-nvtx-cu11==11.7.91 (from torch==2.0.1->xformers)\n",
      "  Downloading nvidia_nvtx_cu11-11.7.91-py3-none-manylinux1_x86_64.whl (98 kB)\n",
      "\u001b[2K     \u001b[90m━━━━━━━━━━━━━━━━━━━━━━━━━━━━━━━━━━━━━━━━\u001b[0m \u001b[32m98.6/98.6 kB\u001b[0m \u001b[31m52.5 MB/s\u001b[0m eta \u001b[36m0:00:00\u001b[0m\n",
      "\u001b[?25hCollecting triton==2.0.0 (from torch==2.0.1->xformers)\n",
      "  Downloading triton-2.0.0-1-cp38-cp38-manylinux2014_x86_64.manylinux_2_17_x86_64.whl (63.2 MB)\n",
      "\u001b[2K     \u001b[90m━━━━━━━━━━━━━━━━━━━━━━━━━━━━━━━━━━━━━━━━\u001b[0m \u001b[32m63.2/63.2 MB\u001b[0m \u001b[31m47.6 MB/s\u001b[0m eta \u001b[36m0:00:00\u001b[0m00:01\u001b[0m00:01\u001b[0m\n",
      "\u001b[?25hRequirement already satisfied: setuptools in /usr/local/lib/python3.8/dist-packages (from nvidia-cublas-cu11==11.10.3.66->torch==2.0.1->xformers) (67.8.0)\n",
      "Requirement already satisfied: wheel in /usr/lib/python3/dist-packages (from nvidia-cublas-cu11==11.10.3.66->torch==2.0.1->xformers) (0.34.2)\n",
      "Collecting cmake (from triton==2.0.0->torch==2.0.1->xformers)\n",
      "  Downloading cmake-3.26.4-py2.py3-none-manylinux2014_x86_64.manylinux_2_17_x86_64.whl (24.0 MB)\n",
      "\u001b[2K     \u001b[90m━━━━━━━━━━━━━━━━━━━━━━━━━━━━━━━━━━━━━━━━\u001b[0m \u001b[32m24.0/24.0 MB\u001b[0m \u001b[31m77.9 MB/s\u001b[0m eta \u001b[36m0:00:00\u001b[0m00:01\u001b[0m00:01\u001b[0m\n",
      "\u001b[?25hCollecting lit (from triton==2.0.0->torch==2.0.1->xformers)\n",
      "  Downloading lit-16.0.6.tar.gz (153 kB)\n",
      "\u001b[2K     \u001b[90m━━━━━━━━━━━━━━━━━━━━━━━━━━━━━━━━━━━━━━\u001b[0m \u001b[32m153.7/153.7 kB\u001b[0m \u001b[31m74.4 MB/s\u001b[0m eta \u001b[36m0:00:00\u001b[0m\n",
      "\u001b[?25h  Installing build dependencies ... \u001b[?25ldone\n",
      "\u001b[?25h  Getting requirements to build wheel ... \u001b[?25ldone\n",
      "\u001b[?25h  Installing backend dependencies ... \u001b[?25ldone\n",
      "\u001b[?25h  Preparing metadata (pyproject.toml) ... \u001b[?25ldone\n",
      "\u001b[?25hRequirement already satisfied: MarkupSafe>=2.0 in /usr/local/lib/python3.8/dist-packages (from jinja2->torch==2.0.1->xformers) (2.1.2)\n",
      "Collecting mpmath>=0.19 (from sympy->torch==2.0.1->xformers)\n",
      "  Downloading mpmath-1.3.0-py3-none-any.whl (536 kB)\n",
      "\u001b[2K     \u001b[90m━━━━━━━━━━━━━━━━━━━━━━━━━━━━━━━━━━━━━\u001b[0m \u001b[32m536.2/536.2 kB\u001b[0m \u001b[31m114.7 MB/s\u001b[0m eta \u001b[36m0:00:00\u001b[0m\n",
      "\u001b[?25hRequirement already satisfied: mypy-extensions>=0.3.0 in /usr/local/lib/python3.8/dist-packages (from typing-inspect->pyre-extensions==0.0.29->xformers) (1.0.0)\n",
      "Building wheels for collected packages: lit\n",
      "  Building wheel for lit (pyproject.toml) ... \u001b[?25ldone\n",
      "\u001b[?25h  Created wheel for lit: filename=lit-16.0.6-py3-none-any.whl size=93582 sha256=c281828222f56a71ac09832eeac252d77c4f0d279d51f82e94f6f1a0351162c1\n",
      "  Stored in directory: /root/.cache/pip/wheels/05/ab/f1/0102fea49a41c753f0e79a1a4012417d5d7ef0f93224694472\n",
      "Successfully built lit\n",
      "Installing collected packages: mpmath, lit, cmake, sympy, nvidia-nvtx-cu11, nvidia-nccl-cu11, nvidia-cusparse-cu11, nvidia-curand-cu11, nvidia-cufft-cu11, nvidia-cuda-runtime-cu11, nvidia-cuda-nvrtc-cu11, nvidia-cuda-cupti-cu11, nvidia-cublas-cu11, networkx, pyre-extensions, nvidia-cusolver-cu11, nvidia-cudnn-cu11, triton, torch, xformers\n",
      "  Attempting uninstall: torch\n",
      "    Found existing installation: torch 1.13.1+cpu\n",
      "    Uninstalling torch-1.13.1+cpu:\n",
      "      Successfully uninstalled torch-1.13.1+cpu\n",
      "Successfully installed cmake-3.26.4 lit-16.0.6 mpmath-1.3.0 networkx-3.1 nvidia-cublas-cu11-11.10.3.66 nvidia-cuda-cupti-cu11-11.7.101 nvidia-cuda-nvrtc-cu11-11.7.99 nvidia-cuda-runtime-cu11-11.7.99 nvidia-cudnn-cu11-8.5.0.96 nvidia-cufft-cu11-10.9.0.58 nvidia-curand-cu11-10.2.10.91 nvidia-cusolver-cu11-11.4.0.1 nvidia-cusparse-cu11-11.7.4.91 nvidia-nccl-cu11-2.14.3 nvidia-nvtx-cu11-11.7.91 pyre-extensions-0.0.29 sympy-1.12 torch-2.0.1 triton-2.0.0 xformers-0.0.20\n",
      "\u001b[33mWARNING: Running pip as the 'root' user can result in broken permissions and conflicting behaviour with the system package manager. It is recommended to use a virtual environment instead: https://pip.pypa.io/warnings/venv\u001b[0m\u001b[33m\n",
      "\u001b[0m"
     ]
    }
   ],
   "source": [
    "! pip install xformers"
   ]
  },
  {
   "cell_type": "code",
   "execution_count": 2,
   "id": "94437132-ce7d-4ac9-9e72-c6af56444372",
   "metadata": {
    "execution": {
     "iopub.execute_input": "2023-07-17T17:25:41.771214Z",
     "iopub.status.busy": "2023-07-17T17:25:41.770849Z",
     "iopub.status.idle": "2023-07-17T17:25:41.774722Z",
     "shell.execute_reply": "2023-07-17T17:25:41.774158Z",
     "shell.execute_reply.started": "2023-07-17T17:25:41.771196Z"
    }
   },
   "outputs": [],
   "source": [
    "import scipy\n",
    "from transformers import LlamaTokenizer, LlamaForCausalLM, GenerationConfig, pipeline"
   ]
  },
  {
   "cell_type": "code",
   "execution_count": 3,
   "id": "4cd01d90-5ee8-4fbb-9207-cbc56a548a3c",
   "metadata": {
    "execution": {
     "iopub.execute_input": "2023-07-17T17:26:00.508551Z",
     "iopub.status.busy": "2023-07-17T17:26:00.508289Z",
     "iopub.status.idle": "2023-07-17T17:26:01.728950Z",
     "shell.execute_reply": "2023-07-17T17:26:01.728190Z",
     "shell.execute_reply.started": "2023-07-17T17:26:00.508532Z"
    }
   },
   "outputs": [],
   "source": [
    "from langchain.llms import HuggingFacePipeline\n",
    "from langchain import PromptTemplate, LLMChain\n",
    "import torch"
   ]
  },
  {
   "cell_type": "code",
   "execution_count": 4,
   "id": "d6cbe8f1-bd99-41eb-b424-70a9a5d146e6",
   "metadata": {
    "execution": {
     "iopub.execute_input": "2023-07-17T17:26:14.831420Z",
     "iopub.status.busy": "2023-07-17T17:26:14.831033Z",
     "iopub.status.idle": "2023-07-17T17:26:17.485962Z",
     "shell.execute_reply": "2023-07-17T17:26:17.485206Z",
     "shell.execute_reply.started": "2023-07-17T17:26:14.831401Z"
    }
   },
   "outputs": [
    {
     "name": "stdout",
     "output_type": "stream",
     "text": [
      "Cloning into 'sentencepiece'...\n",
      "remote: Enumerating objects: 4815, done.\u001b[K\n",
      "remote: Counting objects: 100% (1438/1438), done.\u001b[K\n",
      "remote: Compressing objects: 100% (321/321), done.\u001b[K\n",
      "remote: Total 4815 (delta 1162), reused 1182 (delta 1077), pack-reused 3377\u001b[K\n",
      "Receiving objects: 100% (4815/4815), 26.73 MiB | 21.90 MiB/s, done.\n",
      "Resolving deltas: 100% (3311/3311), done.\n"
     ]
    }
   ],
   "source": [
    "import sentencepiece\n",
    "!git clone https://github.com/google/sentencepiece.git"
   ]
  },
  {
   "cell_type": "code",
   "execution_count": 5,
   "id": "bfe7265b-878f-47ac-a27b-5d05e124fc20",
   "metadata": {
    "execution": {
     "iopub.execute_input": "2023-07-17T17:26:28.111341Z",
     "iopub.status.busy": "2023-07-17T17:26:28.111086Z",
     "iopub.status.idle": "2023-07-17T17:26:28.115038Z",
     "shell.execute_reply": "2023-07-17T17:26:28.113980Z",
     "shell.execute_reply.started": "2023-07-17T17:26:28.111322Z"
    }
   },
   "outputs": [],
   "source": [
    "from transformers import LlamaTokenizer\n"
   ]
  },
  {
   "cell_type": "code",
   "execution_count": 6,
   "id": "523ae643-7042-4010-a71a-196a66da81ea",
   "metadata": {
    "execution": {
     "iopub.execute_input": "2023-07-17T17:26:37.893597Z",
     "iopub.status.busy": "2023-07-17T17:26:37.893356Z",
     "iopub.status.idle": "2023-07-17T17:26:38.599036Z",
     "shell.execute_reply": "2023-07-17T17:26:38.598375Z",
     "shell.execute_reply.started": "2023-07-17T17:26:37.893579Z"
    }
   },
   "outputs": [
    {
     "data": {
      "application/vnd.jupyter.widget-view+json": {
       "model_id": "29fbd6a9bb3b4a91a6b9b7e644b94314",
       "version_major": 2,
       "version_minor": 0
      },
      "text/plain": [
       "Downloading tokenizer.model:   0%|          | 0.00/500k [00:00<?, ?B/s]"
      ]
     },
     "metadata": {},
     "output_type": "display_data"
    },
    {
     "data": {
      "application/vnd.jupyter.widget-view+json": {
       "model_id": "32907fe6aa464871bafcb5be0161f277",
       "version_major": 2,
       "version_minor": 0
      },
      "text/plain": [
       "Downloading (…)in/added_tokens.json:   0%|          | 0.00/21.0 [00:00<?, ?B/s]"
      ]
     },
     "metadata": {},
     "output_type": "display_data"
    },
    {
     "data": {
      "application/vnd.jupyter.widget-view+json": {
       "model_id": "b95c63b82df34d018b7312fe19e9db3f",
       "version_major": 2,
       "version_minor": 0
      },
      "text/plain": [
       "Downloading (…)cial_tokens_map.json:   0%|          | 0.00/96.0 [00:00<?, ?B/s]"
      ]
     },
     "metadata": {},
     "output_type": "display_data"
    },
    {
     "data": {
      "application/vnd.jupyter.widget-view+json": {
       "model_id": "d2545b9c49a44be780d848f0d402994d",
       "version_major": 2,
       "version_minor": 0
      },
      "text/plain": [
       "Downloading (…)okenizer_config.json:   0%|          | 0.00/335 [00:00<?, ?B/s]"
      ]
     },
     "metadata": {},
     "output_type": "display_data"
    },
    {
     "name": "stderr",
     "output_type": "stream",
     "text": [
      "You are using the legacy behaviour of the <class 'transformers.models.llama.tokenization_llama.LlamaTokenizer'>. This means that tokens that come after special tokens will not be properly handled. We recommend you to read the related pull request available at https://github.com/huggingface/transformers/pull/24565\n"
     ]
    }
   ],
   "source": [
    "tokenizer = LlamaTokenizer.from_pretrained(\"chavinlo/alpaca-native\")"
   ]
  },
  {
   "cell_type": "code",
   "execution_count": 7,
   "id": "28b5f078-f714-4b68-8fb5-f6a76de119a3",
   "metadata": {
    "execution": {
     "iopub.execute_input": "2023-07-17T17:26:57.764095Z",
     "iopub.status.busy": "2023-07-17T17:26:57.763805Z",
     "iopub.status.idle": "2023-07-17T17:36:11.370243Z",
     "shell.execute_reply": "2023-07-17T17:36:11.369564Z",
     "shell.execute_reply.started": "2023-07-17T17:26:57.764075Z"
    }
   },
   "outputs": [
    {
     "data": {
      "application/vnd.jupyter.widget-view+json": {
       "model_id": "33b85633735341aca357c65415c5f2e0",
       "version_major": 2,
       "version_minor": 0
      },
      "text/plain": [
       "Downloading (…)lve/main/config.json:   0%|          | 0.00/556 [00:00<?, ?B/s]"
      ]
     },
     "metadata": {},
     "output_type": "display_data"
    },
    {
     "data": {
      "application/vnd.jupyter.widget-view+json": {
       "model_id": "00e731d23a9d4632b4eb402fcf772691",
       "version_major": 2,
       "version_minor": 0
      },
      "text/plain": [
       "Downloading (…)model.bin.index.json:   0%|          | 0.00/26.8k [00:00<?, ?B/s]"
      ]
     },
     "metadata": {},
     "output_type": "display_data"
    },
    {
     "data": {
      "application/vnd.jupyter.widget-view+json": {
       "model_id": "84514d3a13bf42499e59cade7c4491e4",
       "version_major": 2,
       "version_minor": 0
      },
      "text/plain": [
       "Downloading shards:   0%|          | 0/3 [00:00<?, ?it/s]"
      ]
     },
     "metadata": {},
     "output_type": "display_data"
    },
    {
     "data": {
      "application/vnd.jupyter.widget-view+json": {
       "model_id": "7f3385abbc7d41eb9876144123f666c6",
       "version_major": 2,
       "version_minor": 0
      },
      "text/plain": [
       "Downloading (…)l-00001-of-00003.bin:   0%|          | 0.00/9.88G [00:00<?, ?B/s]"
      ]
     },
     "metadata": {},
     "output_type": "display_data"
    },
    {
     "data": {
      "application/vnd.jupyter.widget-view+json": {
       "model_id": "4f69b111d46540ff991d468af81d2075",
       "version_major": 2,
       "version_minor": 0
      },
      "text/plain": [
       "Downloading (…)l-00002-of-00003.bin:   0%|          | 0.00/9.89G [00:00<?, ?B/s]"
      ]
     },
     "metadata": {},
     "output_type": "display_data"
    },
    {
     "data": {
      "application/vnd.jupyter.widget-view+json": {
       "model_id": "f2b78e7af11643d4b667effe34243957",
       "version_major": 2,
       "version_minor": 0
      },
      "text/plain": [
       "Downloading (…)l-00003-of-00003.bin:   0%|          | 0.00/7.18G [00:00<?, ?B/s]"
      ]
     },
     "metadata": {},
     "output_type": "display_data"
    },
    {
     "data": {
      "application/vnd.jupyter.widget-view+json": {
       "model_id": "3d0ee50a2e9d4150b8daeb55fcf54cbc",
       "version_major": 2,
       "version_minor": 0
      },
      "text/plain": [
       "Loading checkpoint shards:   0%|          | 0/3 [00:00<?, ?it/s]"
      ]
     },
     "metadata": {},
     "output_type": "display_data"
    },
    {
     "data": {
      "application/vnd.jupyter.widget-view+json": {
       "model_id": "daaa4af395e74e7ebae5c1d6efa311a5",
       "version_major": 2,
       "version_minor": 0
      },
      "text/plain": [
       "Downloading (…)neration_config.json:   0%|          | 0.00/137 [00:00<?, ?B/s]"
      ]
     },
     "metadata": {},
     "output_type": "display_data"
    }
   ],
   "source": [
    "from accelerate import Accelerator\n",
    "from transformers import LlamaForCausalLM\n",
    "\n",
    "accelerator = Accelerator()\n",
    "\n",
    "base_model = LlamaForCausalLM.from_pretrained(\n",
    "    \"chavinlo/alpaca-native\",\n",
    ")"
   ]
  },
  {
   "cell_type": "code",
   "execution_count": 8,
   "id": "513331f6-3941-446e-9dd5-c2090392b4fc",
   "metadata": {
    "execution": {
     "iopub.execute_input": "2023-07-17T17:36:36.873970Z",
     "iopub.status.busy": "2023-07-17T17:36:36.873715Z",
     "iopub.status.idle": "2023-07-17T17:36:37.012006Z",
     "shell.execute_reply": "2023-07-17T17:36:37.011319Z",
     "shell.execute_reply.started": "2023-07-17T17:36:36.873952Z"
    }
   },
   "outputs": [],
   "source": [
    "pipe = pipeline(\n",
    "    \"text-generation\",\n",
    "    model=base_model, \n",
    "    tokenizer=tokenizer, \n",
    "    max_length=500,\n",
    "    temperature=0.6,\n",
    "    top_p=0.95,\n",
    "    repetition_penalty=1.2\n",
    ")\n"
   ]
  },
  {
   "cell_type": "code",
   "execution_count": 9,
   "id": "f2b04d88-8b95-4cbd-a89b-8ea12cd375e5",
   "metadata": {
    "execution": {
     "iopub.execute_input": "2023-07-17T17:37:02.159263Z",
     "iopub.status.busy": "2023-07-17T17:37:02.158994Z",
     "iopub.status.idle": "2023-07-17T17:37:02.162444Z",
     "shell.execute_reply": "2023-07-17T17:37:02.161655Z",
     "shell.execute_reply.started": "2023-07-17T17:37:02.159244Z"
    }
   },
   "outputs": [],
   "source": [
    "local_llm = HuggingFacePipeline(pipeline=pipe)\n"
   ]
  },
  {
   "cell_type": "code",
   "execution_count": 10,
   "id": "b0de3e5c-bd47-4b78-8bba-94f1373d6208",
   "metadata": {
    "execution": {
     "iopub.execute_input": "2023-07-17T17:37:14.175276Z",
     "iopub.status.busy": "2023-07-17T17:37:14.175028Z",
     "iopub.status.idle": "2023-07-17T17:37:14.178462Z",
     "shell.execute_reply": "2023-07-17T17:37:14.177847Z",
     "shell.execute_reply.started": "2023-07-17T17:37:14.175258Z"
    }
   },
   "outputs": [],
   "source": [
    "from langchain import PromptTemplate, LLMChain\n"
   ]
  },
  {
   "cell_type": "code",
   "execution_count": 73,
   "id": "f1f1ef38-687f-4f6a-8ce6-1400f6ba1438",
   "metadata": {
    "execution": {
     "iopub.execute_input": "2023-07-17T18:13:47.405312Z",
     "iopub.status.busy": "2023-07-17T18:13:47.405021Z",
     "iopub.status.idle": "2023-07-17T18:13:47.408479Z",
     "shell.execute_reply": "2023-07-17T18:13:47.407675Z",
     "shell.execute_reply.started": "2023-07-17T18:13:47.405291Z"
    }
   },
   "outputs": [],
   "source": [
    "template = \"\"\"\n",
    "Write a SQL Query given the table name {Table} and columns as a list {Columns} for the given question : \n",
    "{question}.\n",
    "Winning or victory means position=1 and the votes column to find the count.\n",
    "\"\"\""
   ]
  },
  {
   "cell_type": "code",
   "execution_count": 74,
   "id": "d44fd820-f1a7-4f59-a9c2-f83776ad72f0",
   "metadata": {
    "execution": {
     "iopub.execute_input": "2023-07-17T18:13:48.202685Z",
     "iopub.status.busy": "2023-07-17T18:13:48.202332Z",
     "iopub.status.idle": "2023-07-17T18:13:48.206341Z",
     "shell.execute_reply": "2023-07-17T18:13:48.205756Z",
     "shell.execute_reply.started": "2023-07-17T18:13:48.202652Z"
    }
   },
   "outputs": [],
   "source": [
    "prompt = PromptTemplate(template=template, input_variables=[\"Table\",\"question\",\"Columns\"])\n"
   ]
  },
  {
   "cell_type": "code",
   "execution_count": 75,
   "id": "50a52049-30cc-457d-a325-d3879eeb3fa3",
   "metadata": {
    "execution": {
     "iopub.execute_input": "2023-07-17T18:13:48.389505Z",
     "iopub.status.busy": "2023-07-17T18:13:48.389333Z",
     "iopub.status.idle": "2023-07-17T18:13:48.392570Z",
     "shell.execute_reply": "2023-07-17T18:13:48.391984Z",
     "shell.execute_reply.started": "2023-07-17T18:13:48.389489Z"
    }
   },
   "outputs": [],
   "source": [
    "llm_chain = LLMChain(prompt=prompt, llm=local_llm)\n"
   ]
  },
  {
   "cell_type": "code",
   "execution_count": 76,
   "id": "b3db6516-cdc5-4cf7-a81d-7fd072cc8be3",
   "metadata": {
    "execution": {
     "iopub.execute_input": "2023-07-17T18:13:48.968995Z",
     "iopub.status.busy": "2023-07-17T18:13:48.968821Z",
     "iopub.status.idle": "2023-07-17T18:13:48.972587Z",
     "shell.execute_reply": "2023-07-17T18:13:48.971812Z",
     "shell.execute_reply.started": "2023-07-17T18:13:48.968979Z"
    }
   },
   "outputs": [],
   "source": [
    "def get_llm_response(tble,question,cols):\n",
    "    llm_chain = LLMChain(prompt=prompt, \n",
    "                         llm=local_llm\n",
    "                         )\n",
    "    response= llm_chain.run({\"Table\" : tble,\"question\" :question, \"Columns\" : cols})\n",
    "    print(response)"
   ]
  },
  {
   "cell_type": "code",
   "execution_count": 77,
   "id": "6aaaa42d-9a7e-4ed4-a06a-b1cbed2a3c2d",
   "metadata": {
    "execution": {
     "iopub.execute_input": "2023-07-17T18:13:51.041633Z",
     "iopub.status.busy": "2023-07-17T18:13:51.041394Z",
     "iopub.status.idle": "2023-07-17T18:13:51.045334Z",
     "shell.execute_reply": "2023-07-17T18:13:51.044767Z",
     "shell.execute_reply.started": "2023-07-17T18:13:51.041615Z"
    }
   },
   "outputs": [],
   "source": [
    "tble = \"eci_kr_2023\"\n",
    "cols = ['ac_no', 'ac_name_x', 'regions', 'caste', 'locality', 'district', 's_no', 'candidate_name', 'party', 'evm_votes', 'postal_votes', 'votes', 'vote_share', 'st_name', 'st_no', 'ac_name_y', 'constituency_code', 'position', 'total_votes', 'margin', 'margin_percent', 'vote_share_percent', 'margin_buckets_percent', 'margin_buckets_votes']\n"
   ]
  },
  {
   "cell_type": "code",
   "execution_count": 65,
   "id": "ca7a6eef-736b-4f63-8922-0b81d2787a81",
   "metadata": {
    "execution": {
     "iopub.execute_input": "2023-07-17T18:07:51.518498Z",
     "iopub.status.busy": "2023-07-17T18:07:51.518282Z",
     "iopub.status.idle": "2023-07-17T18:08:37.937844Z",
     "shell.execute_reply": "2023-07-17T18:08:37.937054Z",
     "shell.execute_reply.started": "2023-07-17T18:07:51.518480Z"
    }
   },
   "outputs": [
    {
     "name": "stdout",
     "output_type": "stream",
     "text": [
      "SELECT * FROM eci_kr_2023 WHERE position = 1 AND total_votes > 5000;\n"
     ]
    }
   ],
   "source": [
    "question=\"How many MLAs won with more than five thousand votes\"\n",
    "get_llm_response(tble,question,cols)"
   ]
  },
  {
   "cell_type": "code",
   "execution_count": 66,
   "id": "bc7f2d98-bfd6-4947-885d-2fc66462e32a",
   "metadata": {
    "execution": {
     "iopub.execute_input": "2023-07-17T18:09:12.450263Z",
     "iopub.status.busy": "2023-07-17T18:09:12.450003Z",
     "iopub.status.idle": "2023-07-17T18:10:00.193180Z",
     "shell.execute_reply": "2023-07-17T18:10:00.192537Z",
     "shell.execute_reply.started": "2023-07-17T18:09:12.450245Z"
    }
   },
   "outputs": [
    {
     "name": "stdout",
     "output_type": "stream",
     "text": [
      "SELECT COUNT(*) FROM eci_kr_2023 WHERE position = 1 AND total_votes > 5000;\n"
     ]
    }
   ],
   "source": [
    "question=\"Count of MLAs who won with more than five thousand votes\"\n",
    "get_llm_response(tble,question,cols)"
   ]
  },
  {
   "cell_type": "code",
   "execution_count": 78,
   "id": "4450d6b3-9b2c-4947-a7b8-f44fd1fdf65a",
   "metadata": {
    "execution": {
     "iopub.execute_input": "2023-07-17T18:13:53.581260Z",
     "iopub.status.busy": "2023-07-17T18:13:53.580999Z",
     "iopub.status.idle": "2023-07-17T18:14:37.790631Z",
     "shell.execute_reply": "2023-07-17T18:14:37.789945Z",
     "shell.execute_reply.started": "2023-07-17T18:13:53.581242Z"
    }
   },
   "outputs": [
    {
     "name": "stdout",
     "output_type": "stream",
     "text": [
      "SELECT COUNT(*) FROM eci_kr_2023 WHERE position = 1 AND (votes > 5000)\n"
     ]
    }
   ],
   "source": [
    "question=\"Count of MLAs who won with more than five thousand votes\"\n",
    "get_llm_response(tble,question,cols)"
   ]
  },
  {
   "cell_type": "code",
   "execution_count": 79,
   "id": "9c33100c-665e-4e82-8efe-5d63a8409715",
   "metadata": {
    "execution": {
     "iopub.execute_input": "2023-07-17T18:17:19.101856Z",
     "iopub.status.busy": "2023-07-17T18:17:19.101469Z",
     "iopub.status.idle": "2023-07-17T18:18:03.497562Z",
     "shell.execute_reply": "2023-07-17T18:18:03.497031Z",
     "shell.execute_reply.started": "2023-07-17T18:17:19.101835Z"
    }
   },
   "outputs": [
    {
     "name": "stdout",
     "output_type": "stream",
     "text": [
      "SELECT COUNT(*) FROM eci_kr_2023 WHERE position = 1 AND (votes > 25000)\n"
     ]
    }
   ],
   "source": [
    "question=\"Count of MLAs who won with more than twenty five thousand votes\"\n",
    "get_llm_response(tble,question,cols)"
   ]
  },
  {
   "cell_type": "code",
   "execution_count": 80,
   "id": "a71c33ab-4707-47d9-ab6b-72e394985143",
   "metadata": {
    "execution": {
     "iopub.execute_input": "2023-07-17T18:19:55.182318Z",
     "iopub.status.busy": "2023-07-17T18:19:55.182071Z",
     "iopub.status.idle": "2023-07-17T18:20:41.664668Z",
     "shell.execute_reply": "2023-07-17T18:20:41.663858Z",
     "shell.execute_reply.started": "2023-07-17T18:19:55.182299Z"
    }
   },
   "outputs": [
    {
     "name": "stdout",
     "output_type": "stream",
     "text": [
      "SELECT COUNT(*) FROM eci_kr_2023 WHERE position = 1 AND (votes > 100000)\n"
     ]
    }
   ],
   "source": [
    "question=\"Count of MLAs who won with more than one lakh votes\"\n",
    "get_llm_response(tble,question,cols)"
   ]
  },
  {
   "cell_type": "code",
   "execution_count": null,
   "id": "515d3e94-e503-4029-b858-edb71f392db3",
   "metadata": {},
   "outputs": [],
   "source": []
  }
 ],
 "metadata": {
  "kernelspec": {
   "display_name": "Python 3",
   "language": "python",
   "name": "python3"
  },
  "language_info": {
   "codemirror_mode": {
    "name": "ipython",
    "version": 3
   },
   "file_extension": ".py",
   "mimetype": "text/x-python",
   "name": "python",
   "nbconvert_exporter": "python",
   "pygments_lexer": "ipython3",
   "version": "3.8.10"
  }
 },
 "nbformat": 4,
 "nbformat_minor": 5
}
