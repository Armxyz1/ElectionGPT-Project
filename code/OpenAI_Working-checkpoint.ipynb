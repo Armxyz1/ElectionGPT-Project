{
 "cells": [
  {
   "cell_type": "code",
   "execution_count": 13,
   "metadata": {
    "colab": {
     "base_uri": "https://localhost:8080/"
    },
    "id": "Ctj6EmWVsf9y",
    "outputId": "c4f4c364-47ea-40a8-e0d8-8be4d131d769"
   },
   "outputs": [
    {
     "name": "stdout",
     "output_type": "stream",
     "text": [
      "Requirement already satisfied: langchain in c:\\users\\piyush aggarwal\\appdata\\local\\programs\\python\\python311\\lib\\site-packages (0.0.247)\n",
      "Requirement already satisfied: PyYAML>=5.4.1 in c:\\users\\piyush aggarwal\\appdata\\local\\programs\\python\\python311\\lib\\site-packages (from langchain) (6.0.1)\n",
      "Requirement already satisfied: SQLAlchemy<3,>=1.4 in c:\\users\\piyush aggarwal\\appdata\\local\\programs\\python\\python311\\lib\\site-packages (from langchain) (2.0.19)\n",
      "Requirement already satisfied: aiohttp<4.0.0,>=3.8.3 in c:\\users\\piyush aggarwal\\appdata\\local\\programs\\python\\python311\\lib\\site-packages (from langchain) (3.8.5)\n",
      "Requirement already satisfied: dataclasses-json<0.6.0,>=0.5.7 in c:\\users\\piyush aggarwal\\appdata\\local\\programs\\python\\python311\\lib\\site-packages (from langchain) (0.5.14)\n",
      "Requirement already satisfied: langsmith<0.1.0,>=0.0.11 in c:\\users\\piyush aggarwal\\appdata\\local\\programs\\python\\python311\\lib\\site-packages (from langchain) (0.0.15)\n",
      "Requirement already satisfied: numexpr<3.0.0,>=2.8.4 in c:\\users\\piyush aggarwal\\appdata\\local\\programs\\python\\python311\\lib\\site-packages (from langchain) (2.8.4)\n",
      "Requirement already satisfied: numpy<2,>=1 in c:\\users\\piyush aggarwal\\appdata\\local\\programs\\python\\python311\\lib\\site-packages (from langchain) (1.23.4)\n",
      "Requirement already satisfied: openapi-schema-pydantic<2.0,>=1.2 in c:\\users\\piyush aggarwal\\appdata\\local\\programs\\python\\python311\\lib\\site-packages (from langchain) (1.2.4)\n",
      "Requirement already satisfied: pydantic<2,>=1 in c:\\users\\piyush aggarwal\\appdata\\local\\programs\\python\\python311\\lib\\site-packages (from langchain) (1.10.12)\n",
      "Requirement already satisfied: requests<3,>=2 in c:\\users\\piyush aggarwal\\appdata\\local\\programs\\python\\python311\\lib\\site-packages (from langchain) (2.28.1)\n",
      "Requirement already satisfied: tenacity<9.0.0,>=8.1.0 in c:\\users\\piyush aggarwal\\appdata\\local\\programs\\python\\python311\\lib\\site-packages (from langchain) (8.2.2)\n",
      "Requirement already satisfied: attrs>=17.3.0 in c:\\users\\piyush aggarwal\\appdata\\local\\programs\\python\\python311\\lib\\site-packages (from aiohttp<4.0.0,>=3.8.3->langchain) (23.1.0)\n",
      "Requirement already satisfied: charset-normalizer<4.0,>=2.0 in c:\\users\\piyush aggarwal\\appdata\\local\\programs\\python\\python311\\lib\\site-packages (from aiohttp<4.0.0,>=3.8.3->langchain) (2.1.1)\n",
      "Requirement already satisfied: multidict<7.0,>=4.5 in c:\\users\\piyush aggarwal\\appdata\\local\\programs\\python\\python311\\lib\\site-packages (from aiohttp<4.0.0,>=3.8.3->langchain) (6.0.4)\n",
      "Requirement already satisfied: async-timeout<5.0,>=4.0.0a3 in c:\\users\\piyush aggarwal\\appdata\\local\\programs\\python\\python311\\lib\\site-packages (from aiohttp<4.0.0,>=3.8.3->langchain) (4.0.2)\n",
      "Requirement already satisfied: yarl<2.0,>=1.0 in c:\\users\\piyush aggarwal\\appdata\\local\\programs\\python\\python311\\lib\\site-packages (from aiohttp<4.0.0,>=3.8.3->langchain) (1.9.2)\n",
      "Requirement already satisfied: frozenlist>=1.1.1 in c:\\users\\piyush aggarwal\\appdata\\local\\programs\\python\\python311\\lib\\site-packages (from aiohttp<4.0.0,>=3.8.3->langchain) (1.4.0)\n",
      "Requirement already satisfied: aiosignal>=1.1.2 in c:\\users\\piyush aggarwal\\appdata\\local\\programs\\python\\python311\\lib\\site-packages (from aiohttp<4.0.0,>=3.8.3->langchain) (1.3.1)\n",
      "Requirement already satisfied: marshmallow<4.0.0,>=3.18.0 in c:\\users\\piyush aggarwal\\appdata\\local\\programs\\python\\python311\\lib\\site-packages (from dataclasses-json<0.6.0,>=0.5.7->langchain) (3.20.1)\n",
      "Requirement already satisfied: typing-inspect<1,>=0.4.0 in c:\\users\\piyush aggarwal\\appdata\\local\\programs\\python\\python311\\lib\\site-packages (from dataclasses-json<0.6.0,>=0.5.7->langchain) (0.9.0)\n",
      "Requirement already satisfied: typing-extensions>=4.2.0 in c:\\users\\piyush aggarwal\\appdata\\local\\programs\\python\\python311\\lib\\site-packages (from pydantic<2,>=1->langchain) (4.7.1)\n",
      "Requirement already satisfied: idna<4,>=2.5 in c:\\users\\piyush aggarwal\\appdata\\local\\programs\\python\\python311\\lib\\site-packages (from requests<3,>=2->langchain) (3.4)\n",
      "Requirement already satisfied: urllib3<1.27,>=1.21.1 in c:\\users\\piyush aggarwal\\appdata\\local\\programs\\python\\python311\\lib\\site-packages (from requests<3,>=2->langchain) (1.26.12)\n",
      "Requirement already satisfied: certifi>=2017.4.17 in c:\\users\\piyush aggarwal\\appdata\\local\\programs\\python\\python311\\lib\\site-packages (from requests<3,>=2->langchain) (2022.9.24)\n",
      "Requirement already satisfied: greenlet!=0.4.17 in c:\\users\\piyush aggarwal\\appdata\\local\\programs\\python\\python311\\lib\\site-packages (from SQLAlchemy<3,>=1.4->langchain) (2.0.2)\n",
      "Requirement already satisfied: packaging>=17.0 in c:\\users\\piyush aggarwal\\appdata\\local\\programs\\python\\python311\\lib\\site-packages (from marshmallow<4.0.0,>=3.18.0->dataclasses-json<0.6.0,>=0.5.7->langchain) (23.1)\n",
      "Requirement already satisfied: mypy-extensions>=0.3.0 in c:\\users\\piyush aggarwal\\appdata\\local\\programs\\python\\python311\\lib\\site-packages (from typing-inspect<1,>=0.4.0->dataclasses-json<0.6.0,>=0.5.7->langchain) (1.0.0)\n"
     ]
    },
    {
     "name": "stderr",
     "output_type": "stream",
     "text": [
      "\n",
      "[notice] A new release of pip available: 22.3 -> 23.2.1\n",
      "[notice] To update, run: python.exe -m pip install --upgrade pip\n"
     ]
    },
    {
     "name": "stdout",
     "output_type": "stream",
     "text": [
      "Requirement already satisfied: openai in c:\\users\\piyush aggarwal\\appdata\\local\\programs\\python\\python311\\lib\\site-packages (0.27.8)\n",
      "Requirement already satisfied: requests>=2.20 in c:\\users\\piyush aggarwal\\appdata\\local\\programs\\python\\python311\\lib\\site-packages (from openai) (2.28.1)\n",
      "Requirement already satisfied: tqdm in c:\\users\\piyush aggarwal\\appdata\\local\\programs\\python\\python311\\lib\\site-packages (from openai) (4.65.0)\n",
      "Requirement already satisfied: aiohttp in c:\\users\\piyush aggarwal\\appdata\\local\\programs\\python\\python311\\lib\\site-packages (from openai) (3.8.5)\n",
      "Requirement already satisfied: charset-normalizer<3,>=2 in c:\\users\\piyush aggarwal\\appdata\\local\\programs\\python\\python311\\lib\\site-packages (from requests>=2.20->openai) (2.1.1)\n",
      "Requirement already satisfied: idna<4,>=2.5 in c:\\users\\piyush aggarwal\\appdata\\local\\programs\\python\\python311\\lib\\site-packages (from requests>=2.20->openai) (3.4)\n",
      "Requirement already satisfied: urllib3<1.27,>=1.21.1 in c:\\users\\piyush aggarwal\\appdata\\local\\programs\\python\\python311\\lib\\site-packages (from requests>=2.20->openai) (1.26.12)\n",
      "Requirement already satisfied: certifi>=2017.4.17 in c:\\users\\piyush aggarwal\\appdata\\local\\programs\\python\\python311\\lib\\site-packages (from requests>=2.20->openai) (2022.9.24)\n",
      "Requirement already satisfied: attrs>=17.3.0 in c:\\users\\piyush aggarwal\\appdata\\local\\programs\\python\\python311\\lib\\site-packages (from aiohttp->openai) (23.1.0)\n",
      "Requirement already satisfied: multidict<7.0,>=4.5 in c:\\users\\piyush aggarwal\\appdata\\local\\programs\\python\\python311\\lib\\site-packages (from aiohttp->openai) (6.0.4)\n",
      "Requirement already satisfied: async-timeout<5.0,>=4.0.0a3 in c:\\users\\piyush aggarwal\\appdata\\local\\programs\\python\\python311\\lib\\site-packages (from aiohttp->openai) (4.0.2)\n",
      "Requirement already satisfied: yarl<2.0,>=1.0 in c:\\users\\piyush aggarwal\\appdata\\local\\programs\\python\\python311\\lib\\site-packages (from aiohttp->openai) (1.9.2)\n",
      "Requirement already satisfied: frozenlist>=1.1.1 in c:\\users\\piyush aggarwal\\appdata\\local\\programs\\python\\python311\\lib\\site-packages (from aiohttp->openai) (1.4.0)\n",
      "Requirement already satisfied: aiosignal>=1.1.2 in c:\\users\\piyush aggarwal\\appdata\\local\\programs\\python\\python311\\lib\\site-packages (from aiohttp->openai) (1.3.1)\n",
      "Requirement already satisfied: colorama in c:\\users\\piyush aggarwal\\appdata\\local\\programs\\python\\python311\\lib\\site-packages (from tqdm->openai) (0.4.6)\n"
     ]
    },
    {
     "name": "stderr",
     "output_type": "stream",
     "text": [
      "\n",
      "[notice] A new release of pip available: 22.3 -> 23.2.1\n",
      "[notice] To update, run: python.exe -m pip install --upgrade pip\n"
     ]
    }
   ],
   "source": [
    "#Install\n",
    "\n",
    "!pip install langchain\n",
    "!pip install openai"
   ]
  },
  {
   "cell_type": "code",
   "execution_count": 2,
   "metadata": {},
   "outputs": [],
   "source": [
    "import os\n",
    "from langchain.agents import create_sql_agent\n",
    "from langchain.agents.agent_toolkits import SQLDatabaseToolkit\n",
    "from langchain.sql_database import SQLDatabase\n",
    "from langchain.llms.openai import OpenAI\n",
    "from langchain.agents import AgentExecutor\n",
    "from langchain.agents.agent_types import AgentType\n",
    "from langchain.chat_models import ChatOpenAI\n",
    "from langchain import PromptTemplate"
   ]
  },
  {
   "cell_type": "code",
   "execution_count": 3,
   "metadata": {},
   "outputs": [],
   "source": [
    "#ImportDB\n",
    "\n",
    "db = SQLDatabase.from_uri(\"sqlite:///./KR_2023_AE.db\")\n"
   ]
  },
  {
   "cell_type": "code",
   "execution_count": 4,
   "metadata": {},
   "outputs": [],
   "source": [
    "os.environ[\"OPENAI_API_KEY\"] =\"\"\n",
    "toolkit = SQLDatabaseToolkit(db = db, llm = OpenAI(temperature = 0))\n"
   ]
  },
  {
   "cell_type": "code",
   "execution_count": 5,
   "metadata": {
    "id": "UFJl9L-ps4cb"
   },
   "outputs": [],
   "source": [
    "template=\"\"\"\n",
    "Please refer to the table eci_kr_2023 to answer the given query. The table has the following columns:\n",
    "eci_kr_2023 has columns ac_no,ac_name_x,regions,caste,locality,district,s_no,candidate_name,party,evm_votes,postal_votes,votes,vote_share,st_name,st_no,ac_name_y,constituency_code,position,total_votes,margin,margin_percent,vote_share_percent,margin_buckets_percent,margin_buckets_votes.\n",
    "Winning or Victory or Winner means position = 1.\n",
    "Victory or winning margin means check position = 1 and then check margin.\n",
    "JD(s) or JD(S) means party = Janata Dal (Secular).\n",
    "Respond with all choices with the minimum or maximum value when asked for minimum or maximum.\n",
    "Voter Turnout is calculated by dividing the number of votes by the number of voters.\n",
    "Use margin if query asks to use margin.\n",
    "Use votes if query asks to use votes.\n",
    "Largest means maximum.\n",
    "Smallest means minimum.\n",
    "Largest number of candidates means count(candidate_name) as num_candidates group by ac_name_y order by num_candidates.\n",
    "Less than x votes means votes<x.\n",
    "Victory margin over x means margin>x and position=1.\n",
    "Ruling party means party=BJP.\n",
    "\n",
    "User: {query}\n",
    "AI:\"\"\"\n"
   ]
  },
  {
   "cell_type": "code",
   "execution_count": 6,
   "metadata": {},
   "outputs": [],
   "source": [
    "prompt_template = PromptTemplate(input_variables = [\"query\"],template = template)\n",
    "agent_executor = create_sql_agent(\n",
    "    llm = ChatOpenAI(temperature = 0, model = \"gpt-3.5-turbo-0613\"),\n",
    "    toolkit = toolkit,\n",
    "    verbose = True,\n",
    "    agent_type = AgentType.OPENAI_FUNCTIONS,\n",
    "    template = prompt_template\n",
    ")"
   ]
  },
  {
   "cell_type": "code",
   "execution_count": 7,
   "metadata": {
    "id": "K6HT_d-8xI5I"
   },
   "outputs": [
    {
     "name": "stdout",
     "output_type": "stream",
     "text": [
      "\n",
      "\n",
      "\u001b[1m> Entering new AgentExecutor chain...\u001b[0m\n",
      "\u001b[32;1m\u001b[1;3m\n",
      "Invoking: `sql_db_list_tables` with ``\n",
      "\n",
      "\n",
      "\u001b[0m\u001b[38;5;200m\u001b[1;3meci_kr_2023, elec_data\u001b[0m\u001b[32;1m\u001b[1;3m\n",
      "Invoking: `sql_db_schema` with `eci_kr_2023`\n",
      "\n",
      "\n",
      "\u001b[0m\u001b[33;1m\u001b[1;3m\n",
      "CREATE TABLE eci_kr_2023 (\n",
      "\tac_no INTEGER, \n",
      "\tac_name_x TEXT, \n",
      "\tregions TEXT, \n",
      "\tcaste TEXT, \n",
      "\tlocality TEXT, \n",
      "\tdistrict TEXT, \n",
      "\ts_no INTEGER, \n",
      "\tcandidate_name TEXT, \n",
      "\tparty TEXT, \n",
      "\tevm_votes INTEGER, \n",
      "\tpostal_votes INTEGER, \n",
      "\tvotes INTEGER, \n",
      "\tvote_share REAL, \n",
      "\tst_name TEXT, \n",
      "\tst_no TEXT, \n",
      "\tac_name_y TEXT, \n",
      "\tconstituency_code INTEGER, \n",
      "\tposition INTEGER, \n",
      "\ttotal_votes INTEGER, \n",
      "\tmargin REAL, \n",
      "\tmargin_percent REAL, \n",
      "\tvote_share_percent REAL, \n",
      "\tmargin_buckets_percent TEXT, \n",
      "\tmargin_buckets_votes TEXT\n",
      ")\n",
      "\n",
      "/*\n",
      "3 rows from eci_kr_2023 table:\n",
      "ac_no\tac_name_x\tregions\tcaste\tlocality\tdistrict\ts_no\tcandidate_name\tparty\tevm_votes\tpostal_votes\tvotes\tvote_share\tst_name\tst_no\tac_name_y\tconstituency_code\tposition\ttotal_votes\tmargin\tmargin_percent\tvote_share_percent\tmargin_buckets_percent\tmargin_buckets_votes\n",
      "1\tNippani\tMaharashtra - Karnataka\tLingayat\tRural\tBelgaum \t4\tJOLLE SHASHIKALA ANNASAHEB\tBharatiya Janata Party\t72952\t396\t73348\t39.14\tKarnataka\tS10\tNippani\t1\t1\t187412\t7292.0\t3.890892792\t39.13730177\t(0-5)\tBetween 5000 & 10000\n",
      "1\tNippani\tMaharashtra - Karnataka\tLingayat\tRural\tBelgaum \t5\tUTTAM RAOSAHEB PATIL\tNationalist Congress Party\t65614\t442\t66056\t35.25\tKarnataka\tS10\tNippani\t1\t2\t187412\t21949.0\t11.71162999\t35.24640898\t(10-20)\t>20000\n",
      "1\tNippani\tMaharashtra - Karnataka\tLingayat\tRural\tBelgaum \t1\tKAKASAHEB P. PATIL\tIndian National Congress\t43932\t175\t44107\t23.53\tKarnataka\tS10\tNippani\t1\t3\t187412\t43188.0\t23.04441551\t23.53477899\t(>20)\t>20000\n",
      "*/\u001b[0m\u001b[32;1m\u001b[1;3m\n",
      "Invoking: `sql_db_query` with `SELECT COUNT(*) FROM eci_kr_2023 WHERE party = 'Bharatiya Janata Party' AND position = 1`\n",
      "\n",
      "\n",
      "\u001b[0m\u001b[36;1m\u001b[1;3m[(66,)]\u001b[0m\u001b[32;1m\u001b[1;3mThere are 66 MLAs who won from the BJP party.\u001b[0m\n",
      "\n",
      "\u001b[1m> Finished chain.\u001b[0m\n"
     ]
    },
    {
     "data": {
      "text/plain": [
       "'There are 66 MLAs who won from the BJP party.'"
      ]
     },
     "execution_count": 7,
     "metadata": {},
     "output_type": "execute_result"
    }
   ],
   "source": [
    "agent_executor.run(prompt_template.format(query = \"How many MLA won from BJP?\"))"
   ]
  },
  {
   "cell_type": "code",
   "execution_count": null,
   "metadata": {},
   "outputs": [],
   "source": []
  }
 ],
 "metadata": {
  "colab": {
   "provenance": []
  },
  "kernelspec": {
   "display_name": "Python 3 (ipykernel)",
   "language": "python",
   "name": "python3"
  },
  "language_info": {
   "codemirror_mode": {
    "name": "ipython",
    "version": 3
   },
   "file_extension": ".py",
   "mimetype": "text/x-python",
   "name": "python",
   "nbconvert_exporter": "python",
   "pygments_lexer": "ipython3",
   "version": "3.11.0"
  }
 },
 "nbformat": 4,
 "nbformat_minor": 4
}
