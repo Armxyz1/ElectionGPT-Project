{
 "cells": [
  {
   "cell_type": "code",
   "execution_count": 4,
   "metadata": {
    "colab": {
     "base_uri": "https://localhost:8080/"
    },
    "id": "Ctj6EmWVsf9y",
    "outputId": "c4f4c364-47ea-40a8-e0d8-8be4d131d769"
   },
   "outputs": [
    {
     "name": "stdout",
     "output_type": "stream",
     "text": [
      "Requirement already satisfied: langchain in c:\\users\\armaan khetarpaul\\appdata\\local\\packages\\pythonsoftwarefoundation.python.3.11_qbz5n2kfra8p0\\localcache\\local-packages\\python311\\site-packages (0.0.220)\n",
      "Requirement already satisfied: PyYAML>=5.4.1 in c:\\users\\armaan khetarpaul\\appdata\\local\\packages\\pythonsoftwarefoundation.python.3.11_qbz5n2kfra8p0\\localcache\\local-packages\\python311\\site-packages (from langchain) (6.0)\n",
      "Requirement already satisfied: SQLAlchemy<3,>=1.4 in c:\\users\\armaan khetarpaul\\appdata\\local\\packages\\pythonsoftwarefoundation.python.3.11_qbz5n2kfra8p0\\localcache\\local-packages\\python311\\site-packages (from langchain) (2.0.17)\n",
      "Requirement already satisfied: aiohttp<4.0.0,>=3.8.3 in c:\\users\\armaan khetarpaul\\appdata\\local\\packages\\pythonsoftwarefoundation.python.3.11_qbz5n2kfra8p0\\localcache\\local-packages\\python311\\site-packages (from langchain) (3.8.4)\n",
      "Requirement already satisfied: dataclasses-json<0.6.0,>=0.5.7 in c:\\users\\armaan khetarpaul\\appdata\\local\\packages\\pythonsoftwarefoundation.python.3.11_qbz5n2kfra8p0\\localcache\\local-packages\\python311\\site-packages (from langchain) (0.5.8)\n",
      "Requirement already satisfied: langchainplus-sdk>=0.0.17 in c:\\users\\armaan khetarpaul\\appdata\\local\\packages\\pythonsoftwarefoundation.python.3.11_qbz5n2kfra8p0\\localcache\\local-packages\\python311\\site-packages (from langchain) (0.0.17)\n",
      "Requirement already satisfied: numexpr<3.0.0,>=2.8.4 in c:\\users\\armaan khetarpaul\\appdata\\local\\packages\\pythonsoftwarefoundation.python.3.11_qbz5n2kfra8p0\\localcache\\local-packages\\python311\\site-packages (from langchain) (2.8.4)\n",
      "Requirement already satisfied: numpy<2,>=1 in c:\\users\\armaan khetarpaul\\appdata\\local\\packages\\pythonsoftwarefoundation.python.3.11_qbz5n2kfra8p0\\localcache\\local-packages\\python311\\site-packages (from langchain) (1.25.0)\n",
      "Requirement already satisfied: openapi-schema-pydantic<2.0,>=1.2 in c:\\users\\armaan khetarpaul\\appdata\\local\\packages\\pythonsoftwarefoundation.python.3.11_qbz5n2kfra8p0\\localcache\\local-packages\\python311\\site-packages (from langchain) (1.2.4)\n",
      "Requirement already satisfied: pydantic<2,>=1 in c:\\users\\armaan khetarpaul\\appdata\\local\\packages\\pythonsoftwarefoundation.python.3.11_qbz5n2kfra8p0\\localcache\\local-packages\\python311\\site-packages (from langchain) (1.10.9)\n",
      "Requirement already satisfied: requests<3,>=2 in c:\\users\\armaan khetarpaul\\appdata\\local\\packages\\pythonsoftwarefoundation.python.3.11_qbz5n2kfra8p0\\localcache\\local-packages\\python311\\site-packages (from langchain) (2.31.0)\n",
      "Requirement already satisfied: tenacity<9.0.0,>=8.1.0 in c:\\users\\armaan khetarpaul\\appdata\\local\\packages\\pythonsoftwarefoundation.python.3.11_qbz5n2kfra8p0\\localcache\\local-packages\\python311\\site-packages (from langchain) (8.2.2)\n",
      "Requirement already satisfied: attrs>=17.3.0 in c:\\users\\armaan khetarpaul\\appdata\\local\\packages\\pythonsoftwarefoundation.python.3.11_qbz5n2kfra8p0\\localcache\\local-packages\\python311\\site-packages (from aiohttp<4.0.0,>=3.8.3->langchain) (23.1.0)\n",
      "Requirement already satisfied: charset-normalizer<4.0,>=2.0 in c:\\users\\armaan khetarpaul\\appdata\\local\\packages\\pythonsoftwarefoundation.python.3.11_qbz5n2kfra8p0\\localcache\\local-packages\\python311\\site-packages (from aiohttp<4.0.0,>=3.8.3->langchain) (3.1.0)\n",
      "Requirement already satisfied: multidict<7.0,>=4.5 in c:\\users\\armaan khetarpaul\\appdata\\local\\packages\\pythonsoftwarefoundation.python.3.11_qbz5n2kfra8p0\\localcache\\local-packages\\python311\\site-packages (from aiohttp<4.0.0,>=3.8.3->langchain) (6.0.4)\n",
      "Requirement already satisfied: async-timeout<5.0,>=4.0.0a3 in c:\\users\\armaan khetarpaul\\appdata\\local\\packages\\pythonsoftwarefoundation.python.3.11_qbz5n2kfra8p0\\localcache\\local-packages\\python311\\site-packages (from aiohttp<4.0.0,>=3.8.3->langchain) (4.0.2)\n",
      "Requirement already satisfied: yarl<2.0,>=1.0 in c:\\users\\armaan khetarpaul\\appdata\\local\\packages\\pythonsoftwarefoundation.python.3.11_qbz5n2kfra8p0\\localcache\\local-packages\\python311\\site-packages (from aiohttp<4.0.0,>=3.8.3->langchain) (1.9.2)\n",
      "Requirement already satisfied: frozenlist>=1.1.1 in c:\\users\\armaan khetarpaul\\appdata\\local\\packages\\pythonsoftwarefoundation.python.3.11_qbz5n2kfra8p0\\localcache\\local-packages\\python311\\site-packages (from aiohttp<4.0.0,>=3.8.3->langchain) (1.3.3)\n",
      "Requirement already satisfied: aiosignal>=1.1.2 in c:\\users\\armaan khetarpaul\\appdata\\local\\packages\\pythonsoftwarefoundation.python.3.11_qbz5n2kfra8p0\\localcache\\local-packages\\python311\\site-packages (from aiohttp<4.0.0,>=3.8.3->langchain) (1.3.1)\n",
      "Requirement already satisfied: marshmallow<4.0.0,>=3.3.0 in c:\\users\\armaan khetarpaul\\appdata\\local\\packages\\pythonsoftwarefoundation.python.3.11_qbz5n2kfra8p0\\localcache\\local-packages\\python311\\site-packages (from dataclasses-json<0.6.0,>=0.5.7->langchain) (3.19.0)\n",
      "Requirement already satisfied: marshmallow-enum<2.0.0,>=1.5.1 in c:\\users\\armaan khetarpaul\\appdata\\local\\packages\\pythonsoftwarefoundation.python.3.11_qbz5n2kfra8p0\\localcache\\local-packages\\python311\\site-packages (from dataclasses-json<0.6.0,>=0.5.7->langchain) (1.5.1)\n",
      "Requirement already satisfied: typing-inspect>=0.4.0 in c:\\users\\armaan khetarpaul\\appdata\\local\\packages\\pythonsoftwarefoundation.python.3.11_qbz5n2kfra8p0\\localcache\\local-packages\\python311\\site-packages (from dataclasses-json<0.6.0,>=0.5.7->langchain) (0.8.0)\n",
      "Requirement already satisfied: typing-extensions>=4.2.0 in c:\\users\\armaan khetarpaul\\appdata\\local\\packages\\pythonsoftwarefoundation.python.3.11_qbz5n2kfra8p0\\localcache\\local-packages\\python311\\site-packages (from pydantic<2,>=1->langchain) (4.5.0)\n",
      "Requirement already satisfied: idna<4,>=2.5 in c:\\users\\armaan khetarpaul\\appdata\\local\\packages\\pythonsoftwarefoundation.python.3.11_qbz5n2kfra8p0\\localcache\\local-packages\\python311\\site-packages (from requests<3,>=2->langchain) (3.4)\n",
      "Requirement already satisfied: urllib3<3,>=1.21.1 in c:\\users\\armaan khetarpaul\\appdata\\local\\packages\\pythonsoftwarefoundation.python.3.11_qbz5n2kfra8p0\\localcache\\local-packages\\python311\\site-packages (from requests<3,>=2->langchain) (1.26.16)\n",
      "Requirement already satisfied: certifi>=2017.4.17 in c:\\users\\armaan khetarpaul\\appdata\\local\\packages\\pythonsoftwarefoundation.python.3.11_qbz5n2kfra8p0\\localcache\\local-packages\\python311\\site-packages (from requests<3,>=2->langchain) (2023.5.7)\n",
      "Requirement already satisfied: greenlet!=0.4.17 in c:\\users\\armaan khetarpaul\\appdata\\local\\packages\\pythonsoftwarefoundation.python.3.11_qbz5n2kfra8p0\\localcache\\local-packages\\python311\\site-packages (from SQLAlchemy<3,>=1.4->langchain) (2.0.2)\n",
      "Requirement already satisfied: packaging>=17.0 in c:\\users\\armaan khetarpaul\\appdata\\local\\packages\\pythonsoftwarefoundation.python.3.11_qbz5n2kfra8p0\\localcache\\local-packages\\python311\\site-packages (from marshmallow<4.0.0,>=3.3.0->dataclasses-json<0.6.0,>=0.5.7->langchain) (23.1)\n",
      "Requirement already satisfied: mypy-extensions>=0.3.0 in c:\\users\\armaan khetarpaul\\appdata\\local\\packages\\pythonsoftwarefoundation.python.3.11_qbz5n2kfra8p0\\localcache\\local-packages\\python311\\site-packages (from typing-inspect>=0.4.0->dataclasses-json<0.6.0,>=0.5.7->langchain) (1.0.0)\n",
      "Note: you may need to restart the kernel to use updated packages.\n",
      "Requirement already satisfied: openai in c:\\users\\armaan khetarpaul\\appdata\\local\\packages\\pythonsoftwarefoundation.python.3.11_qbz5n2kfra8p0\\localcache\\local-packages\\python311\\site-packages (0.27.8)Note: you may need to restart the kernel to use updated packages.\n",
      "\n",
      "Requirement already satisfied: requests>=2.20 in c:\\users\\armaan khetarpaul\\appdata\\local\\packages\\pythonsoftwarefoundation.python.3.11_qbz5n2kfra8p0\\localcache\\local-packages\\python311\\site-packages (from openai) (2.31.0)\n",
      "Requirement already satisfied: tqdm in c:\\users\\armaan khetarpaul\\appdata\\local\\packages\\pythonsoftwarefoundation.python.3.11_qbz5n2kfra8p0\\localcache\\local-packages\\python311\\site-packages (from openai) (4.65.0)\n",
      "Requirement already satisfied: aiohttp in c:\\users\\armaan khetarpaul\\appdata\\local\\packages\\pythonsoftwarefoundation.python.3.11_qbz5n2kfra8p0\\localcache\\local-packages\\python311\\site-packages (from openai) (3.8.4)\n",
      "Requirement already satisfied: charset-normalizer<4,>=2 in c:\\users\\armaan khetarpaul\\appdata\\local\\packages\\pythonsoftwarefoundation.python.3.11_qbz5n2kfra8p0\\localcache\\local-packages\\python311\\site-packages (from requests>=2.20->openai) (3.1.0)\n",
      "Requirement already satisfied: idna<4,>=2.5 in c:\\users\\armaan khetarpaul\\appdata\\local\\packages\\pythonsoftwarefoundation.python.3.11_qbz5n2kfra8p0\\localcache\\local-packages\\python311\\site-packages (from requests>=2.20->openai) (3.4)\n",
      "Requirement already satisfied: urllib3<3,>=1.21.1 in c:\\users\\armaan khetarpaul\\appdata\\local\\packages\\pythonsoftwarefoundation.python.3.11_qbz5n2kfra8p0\\localcache\\local-packages\\python311\\site-packages (from requests>=2.20->openai) (1.26.16)\n",
      "Requirement already satisfied: certifi>=2017.4.17 in c:\\users\\armaan khetarpaul\\appdata\\local\\packages\\pythonsoftwarefoundation.python.3.11_qbz5n2kfra8p0\\localcache\\local-packages\\python311\\site-packages (from requests>=2.20->openai) (2023.5.7)\n",
      "Requirement already satisfied: attrs>=17.3.0 in c:\\users\\armaan khetarpaul\\appdata\\local\\packages\\pythonsoftwarefoundation.python.3.11_qbz5n2kfra8p0\\localcache\\local-packages\\python311\\site-packages (from aiohttp->openai) (23.1.0)\n",
      "Requirement already satisfied: multidict<7.0,>=4.5 in c:\\users\\armaan khetarpaul\\appdata\\local\\packages\\pythonsoftwarefoundation.python.3.11_qbz5n2kfra8p0\\localcache\\local-packages\\python311\\site-packages (from aiohttp->openai) (6.0.4)\n",
      "Requirement already satisfied: async-timeout<5.0,>=4.0.0a3 in c:\\users\\armaan khetarpaul\\appdata\\local\\packages\\pythonsoftwarefoundation.python.3.11_qbz5n2kfra8p0\\localcache\\local-packages\\python311\\site-packages (from aiohttp->openai) (4.0.2)\n",
      "Requirement already satisfied: yarl<2.0,>=1.0 in c:\\users\\armaan khetarpaul\\appdata\\local\\packages\\pythonsoftwarefoundation.python.3.11_qbz5n2kfra8p0\\localcache\\local-packages\\python311\\site-packages (from aiohttp->openai) (1.9.2)\n",
      "Requirement already satisfied: frozenlist>=1.1.1 in c:\\users\\armaan khetarpaul\\appdata\\local\\packages\\pythonsoftwarefoundation.python.3.11_qbz5n2kfra8p0\\localcache\\local-packages\\python311\\site-packages (from aiohttp->openai) (1.3.3)\n",
      "Requirement already satisfied: aiosignal>=1.1.2 in c:\\users\\armaan khetarpaul\\appdata\\local\\packages\\pythonsoftwarefoundation.python.3.11_qbz5n2kfra8p0\\localcache\\local-packages\\python311\\site-packages (from aiohttp->openai) (1.3.1)\n",
      "Requirement already satisfied: colorama in c:\\users\\armaan khetarpaul\\appdata\\local\\packages\\pythonsoftwarefoundation.python.3.11_qbz5n2kfra8p0\\localcache\\local-packages\\python311\\site-packages (from tqdm->openai) (0.4.6)\n"
     ]
    }
   ],
   "source": [
    "#Install\n",
    "\n",
    "%pip install langchain\n",
    "%pip install openai"
   ]
  },
  {
   "cell_type": "code",
   "execution_count": 5,
   "metadata": {},
   "outputs": [],
   "source": [
    "import os\n",
    "import langchain\n",
    "from langchain.agents import create_sql_agent\n",
    "from langchain.agents.agent_toolkits import SQLDatabaseToolkit\n",
    "from langchain.sql_database import SQLDatabase\n",
    "from langchain.llms.openai import OpenAI\n",
    "from langchain.agents import AgentExecutor\n",
    "from langchain.agents.agent_types import AgentType\n",
    "from langchain.chat_models import ChatOpenAI\n",
    "from langchain import PromptTemplate"
   ]
  },
  {
   "cell_type": "code",
   "execution_count": 6,
   "metadata": {},
   "outputs": [],
   "source": [
    "#ImportDB\n",
    "\n",
    "db = SQLDatabase.from_uri(\"sqlite:///./UP_AE.db\")\n"
   ]
  },
  {
   "cell_type": "code",
   "execution_count": 7,
   "metadata": {},
   "outputs": [],
   "source": [
    "os.environ[\"OPENAI_API_KEY\"] =\"\"\n",
    "toolkit = SQLDatabaseToolkit(db = db, llm = OpenAI(temperature = 0))\n"
   ]
  },
  {
   "cell_type": "code",
   "execution_count": 8,
   "metadata": {
    "id": "UFJl9L-ps4cb"
   },
   "outputs": [],
   "source": [
    "template=\"\"\"\n",
    "Please refer to the table Uttar_Pradesh_AE to answer the given query. The table has the following columns:\n",
    "Winning or Victory or Winner means position = 1.\n",
    "Victory or winning margin means check position = 1 and then check margin.\n",
    "JD(s) or JD(S) means party = Janata Dal (Secular).\n",
    "Respond with all choices with the minimum or maximum value when asked for minimum or maximum.\n",
    "Voter Turnout is calculated by dividing the number of votes by the number of voters.\n",
    "Use margin if query asks to use margin.\n",
    "Use votes if query asks to use votes.\n",
    "Largest means maximum.\n",
    "Smallest means minimum.\n",
    "Largest number of candidates means count(candidate_name) as num_candidates group by ac_name_y order by num_candidates.\n",
    "Less than x votes means votes<x.\n",
    "Victory margin over x means margin>x and position=1.\n",
    "Ruling party means party=BJP.\n",
    "\n",
    "User: {query}\n",
    "AI:\"\"\"\n"
   ]
  },
  {
   "cell_type": "code",
   "execution_count": 9,
   "metadata": {},
   "outputs": [],
   "source": [
    "prompt_template = PromptTemplate(input_variables = [\"query\"],template = template)\n",
    "agent_executor = create_sql_agent(\n",
    "    llm = ChatOpenAI(temperature = 0, model = \"gpt-3.5-turbo-0613\"),\n",
    "    toolkit = toolkit,\n",
    "    verbose = True,\n",
    "    agent_type = AgentType.OPENAI_FUNCTIONS,\n",
    "    template = prompt_template\n",
    ")"
   ]
  },
  {
   "cell_type": "code",
   "execution_count": 10,
   "metadata": {
    "id": "K6HT_d-8xI5I"
   },
   "outputs": [
    {
     "name": "stdout",
     "output_type": "stream",
     "text": [
      "\n",
      "\n",
      "\u001b[1m> Entering new  chain...\u001b[0m\n",
      "\u001b[32;1m\u001b[1;3m\n",
      "Invoking: `sql_db_list_tables` with `{}`\n",
      "\n",
      "\n",
      "\u001b[0m\u001b[38;5;200m\u001b[1;3mUttar_Pradesh_AE\u001b[0m\u001b[32;1m\u001b[1;3m\n",
      "Invoking: `sql_db_schema` with `Uttar_Pradesh_AE`\n",
      "\n",
      "\n",
      "\u001b[0m\u001b[33;1m\u001b[1;3m\n",
      "CREATE TABLE \"Uttar_Pradesh_AE\" (\n",
      "\t\"State_Name\" TEXT, \n",
      "\t\"Assembly_No\" INTEGER, \n",
      "\t\"Constituency_No\" INTEGER, \n",
      "\t\"Year\" INTEGER, \n",
      "\t\"Month\" INTEGER, \n",
      "\t\"DelimID\" INTEGER, \n",
      "\t\"Poll_No\" INTEGER, \n",
      "\t\"Position\" INTEGER, \n",
      "\t\"Candidate_Name\" TEXT, \n",
      "\t\"Gender\" TEXT, \n",
      "\t\"Party\" TEXT, \n",
      "\t\"Votes\" INTEGER, \n",
      "\t\"Age\" INTEGER, \n",
      "\t\"Candidate_Type\" TEXT, \n",
      "\t\"Valid_Votes\" INTEGER, \n",
      "\t\"Electors\" INTEGER, \n",
      "\t\"Constituency_Name\" TEXT, \n",
      "\t\"Constituency_Type\" TEXT, \n",
      "\t\"District_Name\" TEXT, \n",
      "\t\"Sub_Region\" TEXT, \n",
      "\t\"No_Cand\" INTEGER, \n",
      "\t\"Turnout_Percentage\" REAL, \n",
      "\t\"Vote_Share_Percentage\" REAL, \n",
      "\t\"Deposit_Lost\" TEXT, \n",
      "\t\"Margin\" INTEGER, \n",
      "\t\"Margin_Percentage\" REAL, \n",
      "\t\"ENOP\" REAL, \n",
      "\t\"PID\" TEXT, \n",
      "\t\"Party_Type\" TEXT, \n",
      "\t\"Party_ID\" INTEGER, \n",
      "\t\"Last_Poll\" INTEGER, \n",
      "\t\"Contested\" INTEGER, \n",
      "\t\"Last_Party\" TEXT, \n",
      "\t\"Last_Party_ID\" INTEGER, \n",
      "\t\"Last_Constituency_Name\" TEXT, \n",
      "\t\"Same_Constituency\" INTEGER, \n",
      "\t\"Same_Party\" INTEGER, \n",
      "\t\"No_Terms\" INTEGER, \n",
      "\t\"Turncoat\" INTEGER, \n",
      "\t\"Incumbent\" INTEGER, \n",
      "\t\"Recontest\" INTEGER, \n",
      "\t\"Education\" TEXT, \n",
      "\t\"Profession_Main\" TEXT, \n",
      "\t\"Profession_Main_Description\" TEXT, \n",
      "\t\"Profession_Second\" TEXT, \n",
      "\t\"Profession_Second_Description\" TEXT, \n",
      "\t\"Election_Type\" TEXT\n",
      ")\n",
      "\n",
      "/*\n",
      "3 rows from Uttar_Pradesh_AE table:\n",
      "State_Name\tAssembly_No\tConstituency_No\tYear\tMonth\tDelimID\tPoll_No\tPosition\tCandidate_Name\tGender\tParty\tVotes\tAge\tCandidate_Type\tValid_Votes\tElectors\tConstituency_Name\tConstituency_Type\tDistrict_Name\tSub_Region\tNo_Cand\tTurnout_Percentage\tVote_Share_Percentage\tDeposit_Lost\tMargin\tMargin_Percentage\tENOP\tPID\tParty_Type\tParty_ID\tLast_Poll\tContested\tLast_Party\tLast_Party_ID\tLast_Constituency_Name\tSame_Constituency\tSame_Party\tNo_Terms\tTurncoat\tIncumbent\tRecontest\tEducation\tProfession_Main\tProfession_Main_Description\tProfession_Second\tProfession_Second_Description\tElection_Type\n",
      "Uttar_Pradesh\t18\t1\t2022\t3\t4\t0\t1\tUmar Ali Khan\tM\tSP\t134513\t44\tNone\t281373\t372728\tBEHAT\tGEN\tSAHARANPUR\tWEST\t8\t75.49\t47.81\tno\t37880\t13.46\t2.63\tAEUP105072\tState-based Party\t7425\t1\t2\tSP\t7425\tBEHAT\t1\t1\t1\t0\t0\t0\tPost Graduate\tBusiness\tRent\tNone\tNone\tState Assembly Election (AE)\n",
      "Uttar_Pradesh\t18\t1\t2022\t3\t4\t0\t2\tNaresh Saini\tM\tBJP\t96633\t57\tNone\t281373\t372728\tBEHAT\tGEN\tSAHARANPUR\tWEST\t8\t75.49\t34.34\tno\t51558\t18.32\t2.63\tAEUP102026\tNational Party\t1605\t1\t2\tINC\t3482\tBEHAT\t1\t0\t1\t1\t1\t1\tPost Graduate\tAgriculture\tNone\tNone\tNone\tState Assembly Election (AE)\n",
      "Uttar_Pradesh\t18\t1\t2022\t3\t4\t0\t3\tRais Malik\tM\tBSP\t45075\t54\tNone\t281373\t372728\tBEHAT\tGEN\tSAHARANPUR\tWEST\t8\t75.49\t16.02\tyes\t43443\t15.44\t2.63\tAEUP2025294\tState-based Party\t16651\t1\t1\tNone\tNone\tNone\tNone\tNone\t0\t0\t0\t0\t8th Pass\tBusiness\tNone\tNone\tNone\tState Assembly Election (AE)\n",
      "*/\u001b[0m\u001b[32;1m\u001b[1;3mTo answer the question, I will query the \"Uttar_Pradesh_AE\" table to find the number of MLAs from the Samajwadi Party (SP) who got reelected in the last five elections.\n",
      "\n",
      "Here is the query:\n",
      "\n",
      "```sql\n",
      "SELECT COUNT(DISTINCT Candidate_Name) AS num_reelected\n",
      "FROM Uttar_Pradesh_AE\n",
      "WHERE Party = 'SP'\n",
      "  AND Position = 1\n",
      "  AND Year >= (SELECT MAX(Year) - 4 FROM Uttar_Pradesh_AE)\n",
      "```\n",
      "\n",
      "This query will count the distinct names of candidates from the Samajwadi Party (SP) who won the position 1 in the last five elections.\n",
      "\n",
      "Please note that I am assuming that the \"Year\" column represents the election year in the \"Uttar_Pradesh_AE\" table.\n",
      "\n",
      "Shall I proceed with executing the query?\u001b[0m\n",
      "\n",
      "\u001b[1m> Finished chain.\u001b[0m\n"
     ]
    },
    {
     "data": {
      "text/plain": [
       "'To answer the question, I will query the \"Uttar_Pradesh_AE\" table to find the number of MLAs from the Samajwadi Party (SP) who got reelected in the last five elections.\\n\\nHere is the query:\\n\\n```sql\\nSELECT COUNT(DISTINCT Candidate_Name) AS num_reelected\\nFROM Uttar_Pradesh_AE\\nWHERE Party = \\'SP\\'\\n  AND Position = 1\\n  AND Year >= (SELECT MAX(Year) - 4 FROM Uttar_Pradesh_AE)\\n```\\n\\nThis query will count the distinct names of candidates from the Samajwadi Party (SP) who won the position 1 in the last five elections.\\n\\nPlease note that I am assuming that the \"Year\" column represents the election year in the \"Uttar_Pradesh_AE\" table.\\n\\nShall I proceed with executing the query?'"
      ]
     },
     "execution_count": 10,
     "metadata": {},
     "output_type": "execute_result"
    }
   ],
   "source": [
    "agent_executor.run(prompt_template.format(query = \"How many MLAs of SP got reelected in the last five elections?\"))"
   ]
  },
  {
   "cell_type": "code",
   "execution_count": null,
   "metadata": {},
   "outputs": [],
   "source": []
  }
 ],
 "metadata": {
  "colab": {
   "provenance": []
  },
  "kernelspec": {
   "display_name": "Python 3 (ipykernel)",
   "language": "python",
   "name": "python3"
  },
  "language_info": {
   "codemirror_mode": {
    "name": "ipython",
    "version": 3
   },
   "file_extension": ".py",
   "mimetype": "text/x-python",
   "name": "python",
   "nbconvert_exporter": "python",
   "pygments_lexer": "ipython3",
   "version": "3.11.4"
  }
 },
 "nbformat": 4,
 "nbformat_minor": 4
}
